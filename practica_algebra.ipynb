{
  "nbformat": 4,
  "nbformat_minor": 0,
  "metadata": {
    "colab": {
      "provenance": [],
      "include_colab_link": true
    },
    "kernelspec": {
      "name": "python3",
      "display_name": "Python 3"
    },
    "language_info": {
      "name": "python"
    }
  },
  "cells": [
    {
      "cell_type": "markdown",
      "metadata": {
        "id": "view-in-github",
        "colab_type": "text"
      },
      "source": [
        "<a href=\"https://colab.research.google.com/github/minervachico/matem-ticas/blob/main/practica_algebra.ipynb\" target=\"_parent\"><img src=\"https://colab.research.google.com/assets/colab-badge.svg\" alt=\"Open In Colab\"/></a>"
      ]
    },
    {
      "cell_type": "markdown",
      "source": [
        "# Práctica 3. Álgebra\n",
        "* Para aprender sobre Python vea la playlist [Python para Matemáticas](https://www.youtube.com/playlist?list=PL8gpDXwO-9l4HkDJ9QhB4H-cOiT0BYGau)\n",
        "* Para obtener ideas y vídeos para la resolución de la práctica vea los archivos siguientes: [Ideas](https://github.com/financieras/math/tree/main/ideas)"
      ],
      "metadata": {
        "id": "b13aYMDxmd7v"
      }
    },
    {
      "cell_type": "markdown",
      "source": [
        "## Práctica 3.1\n",
        "**Determinante en Excel**  \n",
        "\n",
        "* Cree un fichero en Excel de nombre algebra.xlsm.\n",
        "* La extensión **xlsm** corresponde a los archivos de Excel habilitados para macros.\n",
        "* Utilice la Hoja 1 para hacer la Práctica 3.1.\n",
        "* Se pide:\n",
        " 1. Cree una matriz cuadrada de dimensión 5×5, formada por números aleatorios enteros entre -9 y +9.\n",
        " 2. Calcule el determinante de esta matriz\n",
        " 3. Cree un programa en **VBA** que busque una matriz de este tipo cuyo determinante sea cero.\n",
        " 4. Copie la matriz encontrada y péguela debajo con \"pegado especial valores\" para que no varíe su contenido al efectuar el recálculo manual de la hoja."
      ],
      "metadata": {
        "id": "XWa9IdzJmpbB"
      }
    },
    {
      "cell_type": "markdown",
      "source": [
        "## Práctica 3.2\n",
        "**Matriz inversa en Excel**  \n",
        "\n",
        "* Use el mismo archivo de Excel con extensión **xlsm** del caso anterior. \n",
        "* Utilice la Hoja 2 para hacer la Práctica 3.2.\n",
        "* Se pide:\n",
        " 1. Crea la matriz $A$ que es una matriz cuadrada de dimensiones 5×5 usando números aleatorios enteros entre -9 y +9, excepto cero\n",
        " 2. Calcule su determinante\n",
        " 3. Calcule su transpuesta usando la función ```TRANSPONER```\n",
        " 4. Calcule su matriz inversa $A^{-1}$\n",
        " 5. Multiplique la matriz $A$ por su inversa $A^{-1}$ y compruebe que el producto es la matriz identidad.\n",
        " $$AA^{-1}=I$$"
      ],
      "metadata": {
        "id": "cP-ppBE1rzGW"
      }
    },
    {
      "cell_type": "markdown",
      "source": [
        "## Práctica 3.3\n",
        "**Resolución de sistemas lineales en Excel**  \n",
        "\n",
        "* Use el mismo archivo de Excel con extensión **xlsm** del caso anterior. \n",
        "* Utilice la Hoja 3 para hacer la Práctica 3.3.\n",
        "* Se pide:\n",
        " 1. Cree un sistema de 5 ecuaciones con 5 incógnitas con **solución única**.\n",
        " 2. Una de las ecuaciones será: $\\quad x_1+2x_2-x_3+x_4-3x_5=6$\n",
        " 3. Muestre las ecuaciones del sistema usando el [editor de ecuaciones](https://support.microsoft.com/es-es/office/editor-de-ecuaciones-6eac7d71-3c74-437b-80d3-c7dea24fdf3f) de Excel. $\\quad Ax=b$\n",
        " 4. Monte la matriz $A$ del sistema de ecuaciones y la matriz $b$ con los términos independientes. Muestre ambas matrices.\n",
        " 5. Calcule la matriz inversa $A^{-1}$\n",
        " 6. Resuelva el sistema lineal de ecuaciones con este método: $\\quad Ax=b \\quad \\Longrightarrow \\quad x=A^{-1}b$\n",
        " 7. Compruebe si el resultado obtenido es la solución del sistema de ecuaciones. Justifique esa comprobación."
      ],
      "metadata": {
        "id": "jJRClauctBdf"
      }
    },
    {
      "cell_type": "markdown",
      "source": [
        "## Práctica 3.4\n",
        "**Matriz inversa en Python**  \n",
        "\n",
        "Desarrolla un código en Python que al ejecutarse consiga los siguientes apartados.  \n",
        "1. Crea una matriz cuadrada de dimensiones 3×3 usando números aleatorios enteros entre -9 y +9, excepto cero\n",
        "2. Buscar un caso donde el determinante sea igual a 1\n",
        "3. Si el determinante es 1 imprime la matriz y su determinante\n",
        "4. Calcula e imprime su transpuesta\n",
        "5. Calcula e imprime su matriz inversa\n",
        "6. Multiplica la matriz creada por su inversa y comprueba que el producto es la matriz identidad.\n",
        "7. Calcula cuantos segundos ha tardado en realizarse el proceso."
      ],
      "metadata": {
        "id": "EMlUZC6Lqzfs"
      }
    },
    {
      "cell_type": "markdown",
      "source": [
        "## Matriz cuadrada de dimensiones 3×3 usando números aleatorios enteros entre -9 y +9, excepto cero"
      ],
      "metadata": {
        "id": "vDWoUU7gmvZz"
      }
    },
    {
      "cell_type": "code",
      "source": [
        "import numpy as np\n",
        "from random import randint, choice\n",
        "from time import process_time"
      ],
      "metadata": {
        "id": "SBsFA53nkVsi"
      },
      "execution_count": 9,
      "outputs": []
    },
    {
      "cell_type": "code",
      "source": [
        "from random import randint, seed\n",
        "seed()\n",
        "m = []\n",
        "for i in range(3):\n",
        "    fila = []\n",
        "    for j in range(3):\n",
        "        fila.append(randint(-9,9))\n",
        "    m.append(fila)\n",
        "\n",
        "m "
      ],
      "metadata": {
        "colab": {
          "base_uri": "https://localhost:8080/"
        },
        "id": "L9NdYK60memN",
        "outputId": "c7b0318d-a047-46d6-814e-34ef53bf7b2e"
      },
      "execution_count": 35,
      "outputs": [
        {
          "output_type": "execute_result",
          "data": {
            "text/plain": [
              "[[-1, 5, 8], [5, -9, -8], [-3, 1, -8]]"
            ]
          },
          "metadata": {},
          "execution_count": 35
        }
      ]
    },
    {
      "cell_type": "markdown",
      "source": [
        "## Caso donde el determinante sea igual a 1\n",
        "## Si el determinante es 1 imprime la matriz y su determinante"
      ],
      "metadata": {
        "id": "fu3wAnu9m325"
      }
    },
    {
      "cell_type": "code",
      "source": [
        "while True:\n",
        "    m = np.random.randint(1,9, size=(n, n))* choice ([1,-1])   # aleatorios enteros entre -9 y +9, sin incluir el 0\n",
        "    determ = np.linalg.det(m)\n",
        "    if determ == 1:\n",
        "        print(m)\n",
        "        break\n",
        "\n",
        "print(f\"El determinante de la matriz es {determ}\")"
      ],
      "metadata": {
        "colab": {
          "base_uri": "https://localhost:8080/"
        },
        "id": "qHFlFSlwnBj9",
        "outputId": "5fe4aeca-d3ab-42df-e3a5-c97df004dd5c"
      },
      "execution_count": 11,
      "outputs": [
        {
          "output_type": "stream",
          "name": "stdout",
          "text": [
            "[[-2 -3 -3]\n",
            " [-2 -7 -6]\n",
            " [-1 -1 -1]]\n",
            "El determinante de la matriz es 1.0\n"
          ]
        }
      ]
    },
    {
      "cell_type": "markdown",
      "source": [
        "##Transpuesta"
      ],
      "metadata": {
        "id": "h9P90Wyrpgwy"
      }
    },
    {
      "cell_type": "code",
      "source": [
        "import numpy as np\n",
        "m = np.array([[-2,-3,-3],[-2,-7,-6],[-1,-1,-1]])\n",
        "print(\"Matriz:\")\n",
        "print(m)\n",
        "print(\"\\nTranspuesta:\")\n",
        "print(np.transpose(m))"
      ],
      "metadata": {
        "colab": {
          "base_uri": "https://localhost:8080/"
        },
        "id": "XW4K0cEapz7g",
        "outputId": "60fb25a7-7fd8-4de6-a33a-cb834fa8bf62"
      },
      "execution_count": 23,
      "outputs": [
        {
          "output_type": "stream",
          "name": "stdout",
          "text": [
            "Matriz:\n",
            "[[-2 -3 -3]\n",
            " [-2 -7 -6]\n",
            " [-1 -1 -1]]\n",
            "\n",
            "Transpuesta:\n",
            "[[-2 -2 -1]\n",
            " [-3 -7 -1]\n",
            " [-3 -6 -1]]\n"
          ]
        }
      ]
    },
    {
      "cell_type": "markdown",
      "source": [
        "## Inversa"
      ],
      "metadata": {
        "id": "2nUJu62jq3nJ"
      }
    },
    {
      "cell_type": "code",
      "source": [
        "import numpy as np\n",
        "\n",
        "m = np.array([[-2,-3,-3],[-2,-7,-6],[-1,-1,-1]])\n",
        "print(\"Matriz:\")\n",
        "print(m)\n",
        "print()\n",
        "\n",
        "print(\"Inversa:\")\n",
        "minv = np.linalg.inv(m)\n",
        "print(minv)\n",
        "print()\n"
      ],
      "metadata": {
        "colab": {
          "base_uri": "https://localhost:8080/"
        },
        "id": "2byLTecPq3S-",
        "outputId": "b7b97464-8dca-46c3-d9e7-498075dbe058"
      },
      "execution_count": 25,
      "outputs": [
        {
          "output_type": "stream",
          "name": "stdout",
          "text": [
            "Matriz:\n",
            "[[-2 -3 -3]\n",
            " [-2 -7 -6]\n",
            " [-1 -1 -1]]\n",
            "\n",
            "Inversa:\n",
            "[[ 1. -0. -3.]\n",
            " [ 4. -1. -6.]\n",
            " [-5.  1.  8.]]\n",
            "\n"
          ]
        }
      ]
    },
    {
      "cell_type": "markdown",
      "source": [
        "##Multiplica la matriz creada por su inversa y comprueba que el producto es la matriz identidad."
      ],
      "metadata": {
        "id": "Z09VWrPZrJYu"
      }
    },
    {
      "cell_type": "code",
      "source": [
        "import numpy as np\n",
        "\n",
        "m = np.array([[-2,-3,-3],[-2,-7,-6],[-1,-1,-1]])\n",
        "print(\"Matriz:\")\n",
        "print(m)\n",
        "print()\n",
        "\n",
        "print(\"Inversa:\")\n",
        "minv = np.linalg.inv(m)\n",
        "print(minv)\n",
        "print()\n",
        "\n",
        "print(\"Matriz Identidad:\")\n",
        "identidad = np.dot(m, minv)   # multiplicación de matrices\n",
        "print(identidad)\n",
        "print()\n",
        "\n",
        "print(\"Matriz Identidad con valores enteros:\")\n",
        "print(identidad.astype(int))   # así forzamos a valores enteros"
      ],
      "metadata": {
        "colab": {
          "base_uri": "https://localhost:8080/"
        },
        "id": "jw6Ns2qfrP0-",
        "outputId": "53cae5ab-fc7a-466d-a322-af309bf1b81e"
      },
      "execution_count": 26,
      "outputs": [
        {
          "output_type": "stream",
          "name": "stdout",
          "text": [
            "Matriz:\n",
            "[[-2 -3 -3]\n",
            " [-2 -7 -6]\n",
            " [-1 -1 -1]]\n",
            "\n",
            "Inversa:\n",
            "[[ 1. -0. -3.]\n",
            " [ 4. -1. -6.]\n",
            " [-5.  1.  8.]]\n",
            "\n",
            "Matriz Identidad:\n",
            "[[1. 0. 0.]\n",
            " [0. 1. 0.]\n",
            " [0. 0. 1.]]\n",
            "\n",
            "Matriz Identidad con valores enteros:\n",
            "[[1 0 0]\n",
            " [0 1 0]\n",
            " [0 0 1]]\n"
          ]
        }
      ]
    },
    {
      "cell_type": "markdown",
      "source": [
        "##Calcula cuántos segundos ha tardado en realizarse el proceso."
      ],
      "metadata": {
        "id": "KiGJFgQ4rsb9"
      }
    },
    {
      "cell_type": "code",
      "source": [
        "from time import process_time\n",
        "\n",
        "t1 = process_time()\n",
        "\n",
        "for i in range(10_000_000):\n",
        "    cuadrado = i**2\n",
        "\n",
        "t2 = process_time()\n",
        "print(f\"El proceso ha tardado {t2-t1} segundos.\")"
      ],
      "metadata": {
        "colab": {
          "base_uri": "https://localhost:8080/"
        },
        "id": "1yvS3xhNr2Dv",
        "outputId": "a5c1817b-99a6-4abc-a5ee-64a94d030b8f"
      },
      "execution_count": 27,
      "outputs": [
        {
          "output_type": "stream",
          "name": "stdout",
          "text": [
            "El proceso ha tardado 3.2849232169999993 segundos.\n"
          ]
        }
      ]
    },
    {
      "cell_type": "markdown",
      "source": [
        "## Práctica 3.5\n",
        "**Resolución de sistemas lineales en Python**  \n",
        "\n",
        "1. Cree un sistema de 4 ecuaciones con 4 incógnitas con **solución única**.\n",
        "2. La solución del sistema es: $\\; \\begin{pmatrix}x_1, x_2, x_3, x_4\\end{pmatrix} = \\begin{pmatrix} 3, 4, 5, 2\\end{pmatrix}$  \n",
        "3. Una de las ecuaciones del sistema es: $\\enspace x_1+3x_2-x_3-2x_4=6$  \n",
        "4. El vector $b$ de términos independientes es: $\\enspace b=\\begin{pmatrix}6, 3, 5, 7\\end{pmatrix}$  \n",
        "5. Usando números aleatorios elija los coeficientes que faltan de la matriz $A$ del sistema de ecuaciones.\n",
        "  - Los coeficientes deben ser números enteros entre -5 y +5, excluido el cero.\n",
        "  - Imprima la matriz $A$.  \n",
        "6. Calcule e imprima el determinante de $A$.\n",
        "7. Calcule e imprima la matriz inversa $A^{-1}$  \n",
        "8. Resuelva el sistema lineal de ecuaciones con este método: $$Ax=b \\quad \\Longrightarrow \\quad x=A^{-1}b$$\n",
        "9. Compruebe que el resultado obtenido es la solución del sistema de ecuaciones.  \n",
        "10. Resuelva nuevamente el sistema de ecuaciones usando ```np.linalg.solve```."
      ],
      "metadata": {
        "id": "tQQS7GPXIdjH"
      }
    },
    {
      "cell_type": "markdown",
      "source": [
        "## Planteamiento\n",
        "* La solución del sistema es:\n",
        "$$\\begin{pmatrix}\n",
        "  x_1 \\\\\n",
        "  x_2 \\\\\n",
        "  x_3 \\\\\n",
        "  x_4\n",
        "\\end{pmatrix} = \\begin{pmatrix}\n",
        "  3 \\\\\n",
        "  4 \\\\\n",
        "  5 \\\\\n",
        "  2\n",
        "\\end{pmatrix}$$\n",
        "* Una de las ecuaciones del sistema es: $\\enspace x_1+3x_2-x_3-2x_4=6$\n",
        "* El vector $b$ de términos independientes es \n",
        "$$b=\\begin{pmatrix}\n",
        "  6 \\\\\n",
        "  3 \\\\\n",
        "  5 \\\\\n",
        "  7\n",
        "\\end{pmatrix}$$\n",
        "* El sistema en forma matricial:  \n",
        "\n",
        "$$Ax = b$$\n",
        "* Los datos que conocemos: \n",
        "$$\\begin{pmatrix}\n",
        "    1 & 3 & -1 & -2 \\\\\n",
        "    a_{21} & a_{22} & a_{23} & a_{24} \\\\\n",
        "    a_{31} & a_{32} & a_{33} & a_{34} \\\\\n",
        "    a_{41} & a_{42} & a_{43} & a_{44}\n",
        "  \\end{pmatrix} \\begin{pmatrix}\n",
        "  3 \\\\\n",
        "  4 \\\\\n",
        "  5 \\\\\n",
        "  2\n",
        "\\end{pmatrix} = \\begin{pmatrix}\n",
        "  6 \\\\\n",
        "  3 \\\\\n",
        "  5 \\\\\n",
        "  7\n",
        "\\end{pmatrix}$$\n",
        "\n",
        "$$\\enspace$$"
      ],
      "metadata": {
        "id": "c6iNs9rxsavl"
      }
    },
    {
      "cell_type": "markdown",
      "source": [
        "## Elegir aleatoriamente un número de una lista"
      ],
      "metadata": {
        "id": "0Eu_TNr-xxB2"
      }
    },
    {
      "cell_type": "code",
      "source": [
        "import numpy as np\n",
        "np.random.choice([-5,-4,-3,-2,-1,1,2,3,4,5], 12)"
      ],
      "metadata": {
        "colab": {
          "base_uri": "https://localhost:8080/"
        },
        "id": "Q-HYrL1usaZ1",
        "outputId": "cc25dbc5-9356-413a-b325-18124433b248"
      },
      "execution_count": 2,
      "outputs": [
        {
          "output_type": "execute_result",
          "data": {
            "text/plain": [
              "array([-5,  4, -4,  5,  2,  3,  4, -3,  1, -3, -4, -2])"
            ]
          },
          "metadata": {},
          "execution_count": 2
        }
      ]
    },
    {
      "cell_type": "markdown",
      "source": [
        "##Concatenar dos listas"
      ],
      "metadata": {
        "id": "UV8WI-r1x0rP"
      }
    },
    {
      "cell_type": "code",
      "source": [
        "list(range(-5,0)) + list(range(1,6))"
      ],
      "metadata": {
        "colab": {
          "base_uri": "https://localhost:8080/"
        },
        "id": "OMLPxMnSu8gG",
        "outputId": "40bddde2-8c4b-4544-9351-3ccb636d2e95"
      },
      "execution_count": null,
      "outputs": [
        {
          "output_type": "execute_result",
          "data": {
            "text/plain": [
              "[-5, -4, -3, -2, -1, 1, 2, 3, 4, 5]"
            ]
          },
          "metadata": {},
          "execution_count": 3
        }
      ]
    },
    {
      "cell_type": "markdown",
      "source": [
        "## Buscar vector"
      ],
      "metadata": {
        "id": "Cr4N-YgmyArU"
      }
    },
    {
      "cell_type": "code",
      "source": [
        "import numpy as np\n",
        "\n",
        "v = np.array([3,4,5,2])   # vector conocido, supongamos que es la solución de sistema lineal\n",
        "\n",
        "def busca(b):\n",
        "    while True:\n",
        "        w = np.random.choice(list(range(-5,0)) + list(range(1,6)), 4)\n",
        "        if np.matmul(v, w) == b:   # el producto de los dos vectores debe ser igual al número b\n",
        "            break\n",
        "    return w\n",
        "\n",
        "b =  6; print(f\"{busca(b)} x {v} = {b}\")\n",
        "b =  3; print(f\"{busca(b)} x {v} = {b}\")\n",
        "b =  5; print(f\"{busca(b)} x {v} = {b}\")\n",
        "b =  7; print(f\"{busca(b)} x {v} = {b}\")\n",
        "\n",
        "# Multiplicando a mano el primer vector sería un vector fila y\n",
        "# el segundo un vector columna\n",
        "# Al usar NumPy no nos preocupamos de la congruendia de vectores"
      ],
      "metadata": {
        "colab": {
          "base_uri": "https://localhost:8080/"
        },
        "id": "RXe7-KD_zJc0",
        "outputId": "04d2dc9f-2473-475e-81f6-0b6ba79fdd44"
      },
      "execution_count": null,
      "outputs": [
        {
          "output_type": "stream",
          "name": "stdout",
          "text": [
            "[-3 -2  3  4] x [3 4 5 2] = 6\n",
            "[ 2 -3  1  2] x [3 4 5 2] = 3\n",
            "[ 2 -2  3 -4] x [3 4 5 2] = 5\n",
            "[ 1 -1  2 -1] x [3 4 5 2] = 7\n"
          ]
        }
      ]
    },
    {
      "cell_type": "markdown",
      "source": [
        "## Construir una matriz conocidas sus filas"
      ],
      "metadata": {
        "id": "6FEMrRtHyIvM"
      }
    },
    {
      "cell_type": "code",
      "source": [
        "import numpy as np\n",
        "\n",
        "f1 = [1, 3, -1, -2]\n",
        "f2 = [2, -3, 1, 2]\n",
        "f3 = [2, -2, 3, -4]\n",
        "f4 = [1, -1, 2, -1]\n",
        "matriz = [f1, f2, f3, f4]\n",
        "print(matriz)\n",
        "print()\n",
        "\n",
        "# m es un ndarray (n dimensional array)\n",
        "m = np.array(matriz)\n",
        "m"
      ],
      "metadata": {
        "colab": {
          "base_uri": "https://localhost:8080/"
        },
        "id": "CaeeTzJ7yJrs",
        "outputId": "136aec68-552b-4479-9ee8-fe2679dfb7ad"
      },
      "execution_count": null,
      "outputs": [
        {
          "output_type": "stream",
          "name": "stdout",
          "text": [
            "[[1, 3, -1, -2], [2, -3, 1, 2], [2, -2, 3, -4], [1, -1, 2, -1]]\n",
            "\n"
          ]
        },
        {
          "output_type": "execute_result",
          "data": {
            "text/plain": [
              "array([[ 1,  3, -1, -2],\n",
              "       [ 2, -3,  1,  2],\n",
              "       [ 2, -2,  3, -4],\n",
              "       [ 1, -1,  2, -1]])"
            ]
          },
          "metadata": {},
          "execution_count": 12
        }
      ]
    },
    {
      "cell_type": "markdown",
      "source": [
        "##Cálculo e impreión determinante A"
      ],
      "metadata": {
        "id": "S6Zjy1Lv2Ncd"
      }
    },
    {
      "cell_type": "code",
      "source": [
        "import numpy as np \n",
        "M=np.array([[1, 3, -1, -2], [2, -3, 1, 2], [2, -2, 3, -4], [1, -1, 2, -1]])\n",
        "d=np.linalg.det(M) \n",
        "print(d)\n"
      ],
      "metadata": {
        "colab": {
          "base_uri": "https://localhost:8080/"
        },
        "id": "QcOduFf92NA1",
        "outputId": "2b25c58b-5755-4c5a-816b-69a61d0000d5"
      },
      "execution_count": null,
      "outputs": [
        {
          "output_type": "stream",
          "name": "stdout",
          "text": [
            "-45.000000000000014\n"
          ]
        }
      ]
    },
    {
      "cell_type": "markdown",
      "source": [
        "## Cálculo e impresión matriz inversa de A"
      ],
      "metadata": {
        "id": "ikHI-xp12XBJ"
      }
    },
    {
      "cell_type": "code",
      "source": [
        "import numpy as np\n",
        "m=np.array([[1, 3, -1, -2], [2, -3, 1, 2], [2, -2, 3, -4], [1, -1, 2, -1]])\n",
        "np.linalg.inv(m)"
      ],
      "metadata": {
        "colab": {
          "base_uri": "https://localhost:8080/"
        },
        "id": "RZL9Pp8e2YH1",
        "outputId": "a4961d8e-a603-4838-b828-cd57bb27f324"
      },
      "execution_count": null,
      "outputs": [
        {
          "output_type": "execute_result",
          "data": {
            "text/plain": [
              "array([[ 3.33333333e-01,  3.33333333e-01,  0.00000000e+00,\n",
              "         1.11022302e-16],\n",
              "       [ 2.22222222e-01, -1.11111111e-01, -3.33333333e-01,\n",
              "         6.66666667e-01],\n",
              "       [-4.44444444e-02, -1.77777778e-01, -3.33333333e-01,\n",
              "         1.06666667e+00],\n",
              "       [ 2.22222222e-02,  8.88888889e-02, -3.33333333e-01,\n",
              "         4.66666667e-01]])"
            ]
          },
          "metadata": {},
          "execution_count": 22
        }
      ]
    },
    {
      "cell_type": "markdown",
      "source": [
        "## Resolver un sistema 4x4\n",
        "$$\\left.\n",
        "\\begin{array}{rcl}\n",
        "     x+3y-z-2t  =  6\n",
        "  \\\\ 2x-3y+z+2t  =  3\n",
        "  \\\\ 2x+-2y+3z-4t  =  5\n",
        "  \\\\ x-y+2z-t  =  7\n",
        "\\end{array}\n",
        "\\right\\}\n",
        "$$"
      ],
      "metadata": {
        "id": "QzsJ_J-o0Vue"
      }
    },
    {
      "cell_type": "markdown",
      "source": [
        "##Usando matriz inversa\n",
        "\n",
        "$$Ax=b \\quad \\Longrightarrow \\quad x=A^{-1}b$$"
      ],
      "metadata": {
        "id": "M27RqSrK1G4f"
      }
    },
    {
      "cell_type": "code",
      "source": [
        "import numpy as np\n",
        "a = np.array([[1, 3, -1, -2], [2, -3, 1, 2], [2, -2, 3, -4], [1, -1, 2, -1]])\n",
        "b = np.array([6,3,5,7])\n",
        "a_inv = np.linalg.inv(a)\n",
        "np.dot(a_inv, b)"
      ],
      "metadata": {
        "colab": {
          "base_uri": "https://localhost:8080/"
        },
        "id": "SOlL1ZnT1DRi",
        "outputId": "46ca3e96-437f-4b7f-d19e-175f07009446"
      },
      "execution_count": null,
      "outputs": [
        {
          "output_type": "execute_result",
          "data": {
            "text/plain": [
              "array([3., 4., 5., 2.])"
            ]
          },
          "metadata": {},
          "execution_count": 27
        }
      ]
    },
    {
      "cell_type": "markdown",
      "source": [
        "##Usando solve\n"
      ],
      "metadata": {
        "id": "YhrwmnDD1pAp"
      }
    },
    {
      "cell_type": "code",
      "source": [
        "import numpy as np\n",
        "a = np.array([[1, 3, -1, -2], [2, -3, 1, 2], [2, -2, 3, -4], [1, -1, 2, -1]])\n",
        "b = np.array([6,3,5,7])\n",
        "solucion = np.linalg.solve(a,b)\n",
        "solucion"
      ],
      "metadata": {
        "colab": {
          "base_uri": "https://localhost:8080/"
        },
        "id": "F2FvHv4Z1ucT",
        "outputId": "ece89493-ada4-4f56-81ad-20f42c5dda62"
      },
      "execution_count": null,
      "outputs": [
        {
          "output_type": "execute_result",
          "data": {
            "text/plain": [
              "array([3., 4., 5., 2.])"
            ]
          },
          "metadata": {},
          "execution_count": 15
        }
      ]
    },
    {
      "cell_type": "markdown",
      "source": [
        "## Práctica 3.6\n",
        "**Resolución de sistemas lineales con Octave**  \n",
        "\n",
        "1. Tome el mismo sistema 4x4 con solución única del ejercicio anterior.\n",
        "2. Muestra el sistema usando $\\LaTeX$\n",
        "3. Resuélvelo con Octave por dos métodos\n",
        "4. ¿Ambos métodos dan el mismo resultado?"
      ],
      "metadata": {
        "id": "M39ufifh_Jr8"
      }
    },
    {
      "cell_type": "markdown",
      "source": [
        "## Resolver un sistema 4x4\n",
        " Muestra del sistema usando $\\LaTeX$\n",
        "$$\\left.\n",
        "\\begin{array}{rcl}\n",
        "     x+3y-z-2t  =  6\n",
        "  \\\\ 2x-3y+z+2t  =  3\n",
        "  \\\\ 2x+-2y+3z-4t  =  5\n",
        "  \\\\ x-y+2z-t  =  7\n",
        "\\end{array}\n",
        "\\right\\}\n",
        "$$"
      ],
      "metadata": {
        "id": "Kzm6o09R8std"
      }
    },
    {
      "cell_type": "markdown",
      "source": [
        "* El sistema en forma matricial:  \n",
        "\n",
        "$$Ax = b$$\n",
        "Si existe la matriz inversa de $A$ el sistema tendrá solución única.  \n",
        "Premultiplicamos por $A^{-1}$\n",
        "$$A^{-1}Ax = A^{-1}b$$\n",
        "A la izquierda queda la matriz identidad $I$\n",
        "$$Ix = A^{-1}b$$\n",
        "Despejamos el vector $x$\n",
        "$$x = A^{-1}b$$\n",
        "\n",
        "* Desarrollando las matrices\n",
        "$$\\left( \\begin{array}{rrrr}\n",
        "     1 & 3 & -1 & -2 \\\\\n",
        "     2 & -3 & 1 & 2 \\\\\n",
        "     2 & -2 & 3 & -4 \\\\\n",
        "     1 &-1 & 2 & -1\n",
        "  \\end{array}\\right) \\begin{pmatrix}\n",
        "  x \\\\\n",
        "  y \\\\\n",
        "  z \\\\\n",
        "  t\n",
        "\\end{pmatrix} = \\begin{pmatrix}\n",
        "  6 \\\\\n",
        "  3 \\\\\n",
        "  5 \\\\\n",
        "  7\n",
        "\\end{pmatrix}$$\n",
        "\n",
        "Despejando el vector $x$\n",
        "\n",
        "$$\\begin{pmatrix}\n",
        "  x \\\\\n",
        "  y \\\\\n",
        "  z \\\\\n",
        "  t\n",
        "\\end{pmatrix} = \n",
        "\\left( \\begin{array}{rrrr}\n",
        "     1 & 3 & -1 & -2 \\\\\n",
        "     2 & -3 & 1 & 2 \\\\\n",
        "     2 & -2 & 3 & -4 \\\\\n",
        "     1 &-1 & 2 & -1\n",
        "  \\end{array}\\right)  ^{-1} \\begin{pmatrix}\n",
        "  6 \\\\\n",
        "  3 \\\\\n",
        "  5 \\\\\n",
        "  7\n",
        "\\end{pmatrix}$$\n",
        "\n",
        "Calculando la matriz inversa.\n",
        "\n",
        "\n",
        "$$\\begin{pmatrix}\n",
        "  x \\\\\n",
        "  y \\\\\n",
        "  z \\\\\n",
        "  t\n",
        "\\end{pmatrix}=\n",
        "\\left( \\begin{array}{rrrr}\n",
        "     3.33e-01 &  3.333e-01 & 0.00e+00 &  0.00e+00 \\\\\n",
        "     2.22e-01 &  -1.11e-01 & -3.33e-01 & 6.66e-01 \\\\\n",
        "     -4.44e-02 & -1.77e-01 & -3.33e-01& 1.06e+00\\\\\n",
        "      2.22e-02 & 8.88e-02 & -3.33e-01 & 4.66e-01    \n",
        "  \\end{array}\\right)= \\begin{pmatrix}\n",
        "  6 \\\\\n",
        "  3 \\\\\n",
        "  5 \\\\\n",
        "  7\n",
        "\\end{pmatrix}$$\n",
        "\n",
        "\n",
        "La solución es\n",
        "\n",
        "$$\\begin{pmatrix}\n",
        "  x \\\\\n",
        "  y \\\\\n",
        "z \\\\\n",
        "  t\n",
        "\\end{pmatrix} = \\begin{pmatrix}\n",
        "  3 \\\\\n",
        "  4 \\\\\n",
        "  5 \\\\\n",
        "  2\n",
        "\\end{pmatrix}$$\n",
        "\n"
      ],
      "metadata": {
        "id": "OuSk7qgN-Dtn"
      }
    },
    {
      "cell_type": "markdown",
      "source": [
        "##Resolución con octave"
      ],
      "metadata": {
        "id": "PF0PqPuq80_8"
      }
    },
    {
      "cell_type": "code",
      "source": [
        "!apt install octave"
      ],
      "metadata": {
        "colab": {
          "base_uri": "https://localhost:8080/"
        },
        "id": "892WvNNDCaM_",
        "outputId": "728d053d-f7aa-4da7-a7aa-916c96d0d92b"
      },
      "execution_count": 6,
      "outputs": [
        {
          "output_type": "stream",
          "name": "stdout",
          "text": [
            "Reading package lists... Done\n",
            "Building dependency tree       \n",
            "Reading state information... Done\n",
            "octave is already the newest version (4.2.2-1ubuntu1).\n",
            "The following package was automatically installed and is no longer required:\n",
            "  libnvidia-common-460\n",
            "Use 'apt autoremove' to remove it.\n",
            "0 upgraded, 0 newly installed, 0 to remove and 20 not upgraded.\n"
          ]
        }
      ]
    },
    {
      "cell_type": "code",
      "source": [
        "!apt update"
      ],
      "metadata": {
        "colab": {
          "base_uri": "https://localhost:8080/"
        },
        "id": "iQBTmeclCaqb",
        "outputId": "cb54182f-fd70-4f13-ae29-0f27294a56ba"
      },
      "execution_count": 8,
      "outputs": [
        {
          "output_type": "stream",
          "name": "stdout",
          "text": [
            "\u001b[33m\r0% [Working]\u001b[0m\r            \rHit:1 https://cloud.r-project.org/bin/linux/ubuntu bionic-cran40/ InRelease\n",
            "\u001b[33m\r0% [Connecting to archive.ubuntu.com] [Connecting to security.ubuntu.com (185.1\u001b[0m\u001b[33m\r0% [1 InRelease gpgv 3,626 B] [Connecting to archive.ubuntu.com] [Connecting to\u001b[0m\r                                                                               \rIgn:2 https://developer.download.nvidia.com/compute/machine-learning/repos/ubuntu1804/x86_64  InRelease\n",
            "\u001b[33m\r0% [1 InRelease gpgv 3,626 B] [Connecting to archive.ubuntu.com (185.125.190.39\u001b[0m\r                                                                               \rHit:3 https://developer.download.nvidia.com/compute/cuda/repos/ubuntu1804/x86_64  InRelease\n",
            "\u001b[33m\r0% [1 InRelease gpgv 3,626 B] [Connecting to archive.ubuntu.com (185.125.190.39\u001b[0m\r                                                                               \rHit:4 https://developer.download.nvidia.com/compute/machine-learning/repos/ubuntu1804/x86_64  Release\n",
            "\u001b[33m\r0% [1 InRelease gpgv 3,626 B] [Connecting to archive.ubuntu.com (185.125.190.39\u001b[0m\r                                                                               \rHit:5 http://ppa.launchpad.net/c2d4u.team/c2d4u4.0+/ubuntu bionic InRelease\n",
            "Hit:6 http://security.ubuntu.com/ubuntu bionic-security InRelease\n",
            "Hit:7 http://archive.ubuntu.com/ubuntu bionic InRelease\n",
            "Hit:8 http://ppa.launchpad.net/cran/libgit2/ubuntu bionic InRelease\n",
            "Hit:9 http://archive.ubuntu.com/ubuntu bionic-updates InRelease\n",
            "Hit:10 http://archive.ubuntu.com/ubuntu bionic-backports InRelease\n",
            "Hit:12 http://ppa.launchpad.net/deadsnakes/ppa/ubuntu bionic InRelease\n",
            "Hit:13 http://ppa.launchpad.net/graphics-drivers/ppa/ubuntu bionic InRelease\n",
            "Reading package lists... Done\n",
            "Building dependency tree       \n",
            "Reading state information... Done\n",
            "20 packages can be upgraded. Run 'apt list --upgradable' to see them.\n"
          ]
        }
      ]
    },
    {
      "cell_type": "markdown",
      "source": [
        "##Método 1\n"
      ],
      "metadata": {
        "id": "SAUBwCgMDXHI"
      }
    },
    {
      "cell_type": "code",
      "source": [
        "%%writefile primero.m\n",
        "A = [1 3 -1 -2; 2 -3 1 2; 2 -2 3 -4; 1 -1 2 -1]\n",
        "b = [6; 3; 5; 7]\n",
        "x= inv(A)*b\n",
        "% solución 1, rats expresa los número como fracciones o enteros\n",
        "s1 =rats(x)"
      ],
      "metadata": {
        "colab": {
          "base_uri": "https://localhost:8080/"
        },
        "id": "ob5Rl7bDDghM",
        "outputId": "ff0cb7f9-8d07-4e0a-f268-4192f4762ab3"
      },
      "execution_count": 9,
      "outputs": [
        {
          "output_type": "stream",
          "name": "stdout",
          "text": [
            "Writing primero.m\n"
          ]
        }
      ]
    },
    {
      "cell_type": "code",
      "source": [
        "!octave primero.m"
      ],
      "metadata": {
        "colab": {
          "base_uri": "https://localhost:8080/"
        },
        "id": "S1pkH0wdDhR-",
        "outputId": "b94329c5-0a98-43ec-d740-9c5aca68ce55"
      },
      "execution_count": 10,
      "outputs": [
        {
          "output_type": "stream",
          "name": "stdout",
          "text": [
            "octave: X11 DISPLAY environment variable not set\n",
            "octave: disabling GUI features\n",
            "A =\n",
            "\n",
            "   1   3  -1  -2\n",
            "   2  -3   1   2\n",
            "   2  -2   3  -4\n",
            "   1  -1   2  -1\n",
            "\n",
            "b =\n",
            "\n",
            "   6\n",
            "   3\n",
            "   5\n",
            "   7\n",
            "\n",
            "x =\n",
            "\n",
            "   3.0000\n",
            "   4.0000\n",
            "   5.0000\n",
            "   2.0000\n",
            "\n",
            "s1 =\n",
            "\n",
            "          3\n",
            "          4\n",
            "          5\n",
            "          2\n",
            "\n"
          ]
        }
      ]
    },
    {
      "cell_type": "markdown",
      "source": [
        "### Método 2\n",
        "Haciendo $A \\, \\texttt\\ \\!b$"
      ],
      "metadata": {
        "id": "JT95sgIIF2an"
      }
    },
    {
      "cell_type": "code",
      "source": [
        "%%writefile segundo.m\n",
        "A = [1 3 -1 -2; 2 -3 1 2; 2 -2 3 -4; 1 -1 2 -1]\n",
        "b = [6; 3; 5; 7]\n",
        "x = A\\b\n",
        "% solución 3 \n",
        "s3 = rats(x)"
      ],
      "metadata": {
        "colab": {
          "base_uri": "https://localhost:8080/"
        },
        "id": "XW4OZwoQF57c",
        "outputId": "52cfdaca-c762-47be-bb30-d172ae52517a"
      },
      "execution_count": 11,
      "outputs": [
        {
          "output_type": "stream",
          "name": "stdout",
          "text": [
            "Writing segundo.m\n"
          ]
        }
      ]
    },
    {
      "cell_type": "code",
      "source": [
        "!octave segundo.m"
      ],
      "metadata": {
        "colab": {
          "base_uri": "https://localhost:8080/"
        },
        "id": "aASudauMF8zP",
        "outputId": "e8a13437-b2ab-4c4e-800f-30870cd8a9ca"
      },
      "execution_count": 12,
      "outputs": [
        {
          "output_type": "stream",
          "name": "stdout",
          "text": [
            "octave: X11 DISPLAY environment variable not set\n",
            "octave: disabling GUI features\n",
            "A =\n",
            "\n",
            "   1   3  -1  -2\n",
            "   2  -3   1   2\n",
            "   2  -2   3  -4\n",
            "   1  -1   2  -1\n",
            "\n",
            "b =\n",
            "\n",
            "   6\n",
            "   3\n",
            "   5\n",
            "   7\n",
            "\n",
            "x =\n",
            "\n",
            "   3.0000\n",
            "   4.0000\n",
            "   5.0000\n",
            "   2.0000\n",
            "\n",
            "s3 =\n",
            "\n",
            "          3\n",
            "          4\n",
            "          5\n",
            "          2\n",
            "\n"
          ]
        }
      ]
    },
    {
      "cell_type": "markdown",
      "source": [
        "## Práctica 3.7\n",
        "**Diagonalización en Python**\n",
        "\n",
        "* Sea la matriz cuadrada $A$ de orden 4x4\n",
        "\n",
        "$$A=\\left(\n",
        "\\begin{array}{rrrr}\n",
        " -1 &-2 &  3 &-1 \\\\\n",
        "  0 & 2 &  0 & 0 \\\\\n",
        "  0 & 0 &  2 & 0 \\\\\n",
        "  0 & 0 &  0 & 1\n",
        "\\end{array}\n",
        "\\right)$$\n",
        "1. Calcula los **autovalores** y **autovectores**\n",
        "2. Calcula y muestra:\n",
        " - la matriz diagonal $D$\n",
        " - la matriz de paso $P$\n",
        " - su inversa $P^{-1}$  \n",
        "3. Comprueba que se cumple que $A^3=PD^3P^{-1}$"
      ],
      "metadata": {
        "id": "KOhR4DdkL7kg"
      }
    },
    {
      "cell_type": "markdown",
      "source": [
        "## AUTOVALORES Y AUTOVECTORES"
      ],
      "metadata": {
        "id": "m2wuP1Ilj_wt"
      }
    },
    {
      "cell_type": "code",
      "source": [
        "import numpy as np\n",
        "A = np.array([[-1,-2,3,-1],[0,2,0,0],[0,0,2,0],[0,0,0,1]])\n",
        "d,p = np.linalg.eig(A)\n",
        "print(\"d: \", d)\n",
        "D = np.diag(d)\n",
        "print(\"\\nD:\\n\", D)\n",
        "print(\"\\nP:\\n\", p)"
      ],
      "metadata": {
        "colab": {
          "base_uri": "https://localhost:8080/"
        },
        "id": "FD4jzllnkAkB",
        "outputId": "a8674a28-1021-47aa-ae2c-b83c91e479a6"
      },
      "execution_count": null,
      "outputs": [
        {
          "output_type": "stream",
          "name": "stdout",
          "text": [
            "d:  [-1.  2.  2.  1.]\n",
            "\n",
            "D:\n",
            " [[-1.  0.  0.  0.]\n",
            " [ 0.  2.  0.  0.]\n",
            " [ 0.  0.  2.  0.]\n",
            " [ 0.  0.  0.  1.]]\n",
            "\n",
            "P:\n",
            " [[ 1.         -0.5547002   0.70710678 -0.4472136 ]\n",
            " [ 0.          0.83205029  0.          0.        ]\n",
            " [ 0.          0.          0.70710678  0.        ]\n",
            " [ 0.          0.          0.          0.89442719]]\n"
          ]
        }
      ]
    },
    {
      "cell_type": "markdown",
      "source": [
        "## Calculando $A^3$"
      ],
      "metadata": {
        "id": "VYIOCjMgkqnv"
      }
    },
    {
      "cell_type": "code",
      "source": [
        "import numpy as np\n",
        "A = np.array([[-1,-2,3,-1],[0,2,0,0],[0,0,2,0],[0,0,0,1]])\n",
        "print(A@A@A)"
      ],
      "metadata": {
        "colab": {
          "base_uri": "https://localhost:8080/"
        },
        "id": "IeBi-3pwkGa_",
        "outputId": "31627b43-d59e-4802-ecc4-dbb9f4a5e269"
      },
      "execution_count": null,
      "outputs": [
        {
          "output_type": "stream",
          "name": "stdout",
          "text": [
            "[[-1 -6  9 -1]\n",
            " [ 0  8  0  0]\n",
            " [ 0  0  8  0]\n",
            " [ 0  0  0  1]]\n"
          ]
        }
      ]
    },
    {
      "cell_type": "markdown",
      "source": [
        "## Calculando $PD^3P^{-1}$"
      ],
      "metadata": {
        "id": "3DImOf3Xkvtq"
      }
    },
    {
      "cell_type": "code",
      "source": [
        "import numpy as np\n",
        "A = np.array([[-1,-2,3,-1],[0,2,0,0],[0,0,2,0],[0,0,0,1]])\n",
        "d,P = np.linalg.eig(A)\n",
        "print(\"d: \", d)\n",
        "D = np.diag(d)\n",
        "print(\"\\nD:\\n\", D)\n",
        "print(\"\\nP:\\n\", P)\n",
        "Dcubo = D @ D @ D\n",
        "print(\"\\nDcubo:\\n\", Dcubo)\n",
        "print(\"\\nSolucion: \\n\", P @ Dcubo @ np.linalg.inv(P))"
      ],
      "metadata": {
        "colab": {
          "base_uri": "https://localhost:8080/"
        },
        "id": "7MqGMoqFkJ2w",
        "outputId": "cfe307ca-30dc-4abe-af42-49b898dc1c0a"
      },
      "execution_count": null,
      "outputs": [
        {
          "output_type": "stream",
          "name": "stdout",
          "text": [
            "d:  [-1.  2.  2.  1.]\n",
            "\n",
            "D:\n",
            " [[-1.  0.  0.  0.]\n",
            " [ 0.  2.  0.  0.]\n",
            " [ 0.  0.  2.  0.]\n",
            " [ 0.  0.  0.  1.]]\n",
            "\n",
            "P:\n",
            " [[ 1.         -0.5547002   0.70710678 -0.4472136 ]\n",
            " [ 0.          0.83205029  0.          0.        ]\n",
            " [ 0.          0.          0.70710678  0.        ]\n",
            " [ 0.          0.          0.          0.89442719]]\n",
            "\n",
            "Dcubo:\n",
            " [[-1.  0.  0.  0.]\n",
            " [ 0.  8.  0.  0.]\n",
            " [ 0.  0.  8.  0.]\n",
            " [ 0.  0.  0.  1.]]\n",
            "\n",
            "Solucion: \n",
            " [[-1. -6.  9. -1.]\n",
            " [ 0.  8.  0.  0.]\n",
            " [ 0.  0.  8.  0.]\n",
            " [ 0.  0.  0.  1.]]\n"
          ]
        }
      ]
    },
    {
      "cell_type": "markdown",
      "source": [
        "## Práctica 3.8\n",
        "**Diagonalización con Octave**\n",
        "\n",
        "Resuelva el ejercicio anterior, pero en esta ocasión utilizando Octave."
      ],
      "metadata": {
        "id": "tqHIq-of_N_v"
      }
    },
    {
      "cell_type": "code",
      "source": [
        "!apt install octave\n",
        "!apt update"
      ],
      "metadata": {
        "colab": {
          "base_uri": "https://localhost:8080/"
        },
        "id": "Dt-_wnf7lgs5",
        "outputId": "f4869b07-dda7-4cac-c81b-320a5e25393e"
      },
      "execution_count": 3,
      "outputs": [
        {
          "output_type": "stream",
          "name": "stdout",
          "text": [
            "Reading package lists... Done\n",
            "Building dependency tree       \n",
            "Reading state information... Done\n",
            "The following package was automatically installed and is no longer required:\n",
            "  libnvidia-common-460\n",
            "Use 'apt autoremove' to remove it.\n",
            "The following additional packages will be installed:\n",
            "  aglfn epstool fonts-droid-fallback fonts-noto-mono ghostscript gnuplot-data\n",
            "  gnuplot-qt gsfonts imagemagick-6-common info install-info libamd2\n",
            "  libauthen-sasl-perl libcamd2 libccolamd2 libcholmod3 libcolamd2\n",
            "  libcupsfilters1 libcupsimage2 libcxsparse3 libdata-dump-perl libemf1\n",
            "  libencode-locale-perl libfftw3-single3 libfile-listing-perl libfltk-gl1.3\n",
            "  libfltk1.3 libfont-afm-perl libgail-common libgail18 libglpk40\n",
            "  libgraphicsmagick++-q16-12 libgraphicsmagick-q16-3 libgs9 libgs9-common\n",
            "  libgtk2.0-0 libgtk2.0-bin libgtk2.0-common libhtml-form-perl\n",
            "  libhtml-format-perl libhtml-parser-perl libhtml-tagset-perl\n",
            "  libhtml-tree-perl libhttp-cookies-perl libhttp-daemon-perl libhttp-date-perl\n",
            "  libhttp-message-perl libhttp-negotiate-perl libijs-0.35 libio-html-perl\n",
            "  libio-socket-ssl-perl libjbig2dec0 liblqr-1-0 liblua5.3-0\n",
            "  liblwp-mediatypes-perl liblwp-protocol-https-perl libmagick++-6.q16-7\n",
            "  libmagickcore-6.q16-3 libmagickwand-6.q16-3 libmailtools-perl libmetis5\n",
            "  libnet-http-perl libnet-smtp-ssl-perl libnet-ssleay-perl libnotify4\n",
            "  liboctave4 libosmesa6 libplot2c2 libportaudio2 libpstoedit0c2a libqrupdate1\n",
            "  libqscintilla2-qt5-13 libqscintilla2-qt5-l10n libqt5opengl5 libqt5svg5\n",
            "  libsuitesparseconfig5 libtext-unidecode-perl libtimedate-perl\n",
            "  libtry-tiny-perl libumfpack5 liburi-perl libwmf0.2-7 libwww-perl\n",
            "  libwww-robotrules-perl libwxbase3.0-0v5 libwxgtk3.0-0v5 libxml-libxml-perl\n",
            "  libxml-namespacesupport-perl libxml-parser-perl libxml-sax-base-perl\n",
            "  libxml-sax-expat-perl libxml-sax-perl libzip4 netbase notification-daemon\n",
            "  octave-common octave-doc perl-openssl-defaults poppler-data pstoedit\n",
            "  tex-common texinfo\n",
            "Suggested packages:\n",
            "  fonts-noto ghostscript-x gnuplot-doc texinfo-doc-nonfree libdigest-hmac-perl\n",
            "  libgssapi-perl libfftw3-bin libfftw3-dev libiodbc2-dev graphicsmagick-dbg\n",
            "  gvfs libcrypt-ssleay-perl libmagickcore-6.q16-3-extra libqscintilla2-doc\n",
            "  libwmf0.2-7-gtk libauthen-ntlm-perl liboctave-dev www-browser | pdf-viewer\n",
            "  poppler-utils fonts-japanese-mincho | fonts-ipafont-mincho\n",
            "  fonts-japanese-gothic | fonts-ipafont-gothic fonts-arphic-ukai\n",
            "  fonts-arphic-uming fonts-nanum xfig | ivtools-bin | tgif | transfig\n",
            "  debhelper texlive-base texlive-latex-base texlive-generic-recommended\n",
            "  texlive-fonts-recommended\n",
            "The following NEW packages will be installed:\n",
            "  aglfn epstool fonts-droid-fallback fonts-noto-mono ghostscript gnuplot-data\n",
            "  gnuplot-qt gsfonts imagemagick-6-common info install-info libamd2\n",
            "  libauthen-sasl-perl libcamd2 libccolamd2 libcholmod3 libcolamd2\n",
            "  libcupsfilters1 libcupsimage2 libcxsparse3 libdata-dump-perl libemf1\n",
            "  libencode-locale-perl libfftw3-single3 libfile-listing-perl libfltk-gl1.3\n",
            "  libfltk1.3 libfont-afm-perl libgail-common libgail18 libglpk40\n",
            "  libgraphicsmagick++-q16-12 libgraphicsmagick-q16-3 libgs9 libgs9-common\n",
            "  libgtk2.0-0 libgtk2.0-bin libgtk2.0-common libhtml-form-perl\n",
            "  libhtml-format-perl libhtml-parser-perl libhtml-tagset-perl\n",
            "  libhtml-tree-perl libhttp-cookies-perl libhttp-daemon-perl libhttp-date-perl\n",
            "  libhttp-message-perl libhttp-negotiate-perl libijs-0.35 libio-html-perl\n",
            "  libio-socket-ssl-perl libjbig2dec0 liblqr-1-0 liblua5.3-0\n",
            "  liblwp-mediatypes-perl liblwp-protocol-https-perl libmagick++-6.q16-7\n",
            "  libmagickcore-6.q16-3 libmagickwand-6.q16-3 libmailtools-perl libmetis5\n",
            "  libnet-http-perl libnet-smtp-ssl-perl libnet-ssleay-perl libnotify4\n",
            "  liboctave4 libosmesa6 libplot2c2 libportaudio2 libpstoedit0c2a libqrupdate1\n",
            "  libqscintilla2-qt5-13 libqscintilla2-qt5-l10n libqt5opengl5 libqt5svg5\n",
            "  libsuitesparseconfig5 libtext-unidecode-perl libtimedate-perl\n",
            "  libtry-tiny-perl libumfpack5 liburi-perl libwmf0.2-7 libwww-perl\n",
            "  libwww-robotrules-perl libwxbase3.0-0v5 libwxgtk3.0-0v5 libxml-libxml-perl\n",
            "  libxml-namespacesupport-perl libxml-parser-perl libxml-sax-base-perl\n",
            "  libxml-sax-expat-perl libxml-sax-perl libzip4 netbase notification-daemon\n",
            "  octave octave-common octave-doc perl-openssl-defaults poppler-data pstoedit\n",
            "  tex-common texinfo\n",
            "0 upgraded, 103 newly installed, 0 to remove and 20 not upgraded.\n",
            "Need to get 53.6 MB of archives.\n",
            "After this operation, 210 MB of additional disk space will be used.\n",
            "Get:1 http://archive.ubuntu.com/ubuntu bionic/main amd64 install-info amd64 6.5.0.dfsg.1-2 [55.4 kB]\n",
            "Get:2 http://archive.ubuntu.com/ubuntu bionic/main amd64 fonts-droid-fallback all 1:6.0.1r16-1.1 [1,805 kB]\n",
            "Get:3 http://archive.ubuntu.com/ubuntu bionic/main amd64 liblqr-1-0 amd64 0.4.2-2.1 [27.7 kB]\n",
            "Get:4 http://archive.ubuntu.com/ubuntu bionic-updates/main amd64 imagemagick-6-common all 8:6.9.7.4+dfsg-16ubuntu6.14 [60.5 kB]\n",
            "Get:5 http://archive.ubuntu.com/ubuntu bionic-updates/main amd64 libmagickcore-6.q16-3 amd64 8:6.9.7.4+dfsg-16ubuntu6.14 [1,622 kB]\n",
            "Get:6 http://archive.ubuntu.com/ubuntu bionic-updates/main amd64 libmagickwand-6.q16-3 amd64 8:6.9.7.4+dfsg-16ubuntu6.14 [294 kB]\n",
            "Get:7 http://archive.ubuntu.com/ubuntu bionic-updates/main amd64 libqt5svg5 amd64 5.9.5-0ubuntu1.1 [129 kB]\n",
            "Get:8 http://archive.ubuntu.com/ubuntu bionic/main amd64 poppler-data all 0.4.8-2 [1,479 kB]\n",
            "Get:9 http://archive.ubuntu.com/ubuntu bionic/main amd64 tex-common all 6.09 [33.0 kB]\n",
            "Get:10 http://archive.ubuntu.com/ubuntu bionic/main amd64 netbase all 5.4 [12.7 kB]\n",
            "Get:11 http://archive.ubuntu.com/ubuntu bionic/main amd64 info amd64 6.5.0.dfsg.1-2 [104 kB]\n",
            "Get:12 http://archive.ubuntu.com/ubuntu bionic-updates/main amd64 libcupsimage2 amd64 2.2.7-1ubuntu2.9 [18.6 kB]\n",
            "Get:13 http://archive.ubuntu.com/ubuntu bionic/main amd64 libijs-0.35 amd64 0.35-13 [15.5 kB]\n",
            "Get:14 http://archive.ubuntu.com/ubuntu bionic/main amd64 libjbig2dec0 amd64 0.13-6 [55.9 kB]\n",
            "Get:15 http://archive.ubuntu.com/ubuntu bionic-updates/main amd64 libgs9-common all 9.26~dfsg+0-0ubuntu0.18.04.17 [5,092 kB]\n",
            "Get:16 http://archive.ubuntu.com/ubuntu bionic-updates/main amd64 libgs9 amd64 9.26~dfsg+0-0ubuntu0.18.04.17 [2,267 kB]\n",
            "Get:17 http://archive.ubuntu.com/ubuntu bionic-updates/main amd64 ghostscript amd64 9.26~dfsg+0-0ubuntu0.18.04.17 [51.3 kB]\n",
            "Get:18 http://archive.ubuntu.com/ubuntu bionic/universe amd64 epstool amd64 3.08+repack-7 [108 kB]\n",
            "Get:19 http://archive.ubuntu.com/ubuntu bionic/main amd64 fonts-noto-mono all 20171026-2 [75.5 kB]\n",
            "Get:20 http://archive.ubuntu.com/ubuntu bionic/universe amd64 aglfn all 1.7-3 [29.4 kB]\n",
            "Get:21 http://archive.ubuntu.com/ubuntu bionic/universe amd64 gnuplot-data all 5.2.2+dfsg1-2ubuntu1 [56.7 kB]\n",
            "Get:22 http://archive.ubuntu.com/ubuntu bionic-updates/main amd64 liblua5.3-0 amd64 5.3.3-1ubuntu0.18.04.1 [115 kB]\n",
            "Get:23 http://archive.ubuntu.com/ubuntu bionic/universe amd64 libwxbase3.0-0v5 amd64 3.0.4+dfsg-3 [954 kB]\n",
            "Get:24 http://archive.ubuntu.com/ubuntu bionic/main amd64 libgtk2.0-common all 2.24.32-1ubuntu1 [125 kB]\n",
            "Get:25 http://archive.ubuntu.com/ubuntu bionic/main amd64 libgtk2.0-0 amd64 2.24.32-1ubuntu1 [1,769 kB]\n",
            "Get:26 http://archive.ubuntu.com/ubuntu bionic-updates/main amd64 libnotify4 amd64 0.7.7-3ubuntu0.18.04.1 [18.7 kB]\n",
            "Get:27 http://archive.ubuntu.com/ubuntu bionic/universe amd64 libwxgtk3.0-0v5 amd64 3.0.4+dfsg-3 [4,182 kB]\n",
            "Get:28 http://archive.ubuntu.com/ubuntu bionic/universe amd64 gnuplot-qt amd64 5.2.2+dfsg1-2ubuntu1 [1,013 kB]\n",
            "Get:29 http://archive.ubuntu.com/ubuntu bionic/main amd64 gsfonts all 1:8.11+urwcyr1.0.7~pre44-4.4 [3,120 kB]\n",
            "Get:30 http://archive.ubuntu.com/ubuntu bionic/main amd64 libsuitesparseconfig5 amd64 1:5.1.2-2 [9,044 B]\n",
            "Get:31 http://archive.ubuntu.com/ubuntu bionic/main amd64 libamd2 amd64 1:5.1.2-2 [19.5 kB]\n",
            "Get:32 http://archive.ubuntu.com/ubuntu bionic/main amd64 libcamd2 amd64 1:5.1.2-2 [20.9 kB]\n",
            "Get:33 http://archive.ubuntu.com/ubuntu bionic/main amd64 libccolamd2 amd64 1:5.1.2-2 [21.7 kB]\n",
            "Get:34 http://archive.ubuntu.com/ubuntu bionic/main amd64 libcolamd2 amd64 1:5.1.2-2 [16.2 kB]\n",
            "Get:35 http://archive.ubuntu.com/ubuntu bionic/main amd64 libmetis5 amd64 5.1.0.dfsg-5 [169 kB]\n",
            "Get:36 http://archive.ubuntu.com/ubuntu bionic/main amd64 libcholmod3 amd64 1:5.1.2-2 [300 kB]\n",
            "Get:37 http://archive.ubuntu.com/ubuntu bionic-updates/main amd64 libcupsfilters1 amd64 1.20.2-0ubuntu3.1 [108 kB]\n",
            "Get:38 http://archive.ubuntu.com/ubuntu bionic/main amd64 libcxsparse3 amd64 1:5.1.2-2 [63.9 kB]\n",
            "Get:39 http://archive.ubuntu.com/ubuntu bionic/main amd64 libdata-dump-perl all 1.23-1 [27.0 kB]\n",
            "Get:40 http://archive.ubuntu.com/ubuntu bionic/universe amd64 libemf1 amd64 1.0.9+git.10.3231442-1 [54.7 kB]\n",
            "Get:41 http://archive.ubuntu.com/ubuntu bionic/main amd64 libencode-locale-perl all 1.05-1 [12.3 kB]\n",
            "Get:42 http://archive.ubuntu.com/ubuntu bionic/main amd64 libfftw3-single3 amd64 3.3.7-1 [764 kB]\n",
            "Get:43 http://archive.ubuntu.com/ubuntu bionic/main amd64 libtimedate-perl all 2.3000-2 [37.5 kB]\n",
            "Get:44 http://archive.ubuntu.com/ubuntu bionic/main amd64 libhttp-date-perl all 6.02-1 [10.4 kB]\n",
            "Get:45 http://archive.ubuntu.com/ubuntu bionic/main amd64 libfile-listing-perl all 6.04-1 [9,774 B]\n",
            "Get:46 http://archive.ubuntu.com/ubuntu bionic/universe amd64 libfltk1.3 amd64 1.3.4-6 [523 kB]\n",
            "Get:47 http://archive.ubuntu.com/ubuntu bionic/universe amd64 libfltk-gl1.3 amd64 1.3.4-6 [37.7 kB]\n",
            "Get:48 http://archive.ubuntu.com/ubuntu bionic/main amd64 libfont-afm-perl all 1.20-2 [13.2 kB]\n",
            "Get:49 http://archive.ubuntu.com/ubuntu bionic/main amd64 libgail18 amd64 2.24.32-1ubuntu1 [14.2 kB]\n",
            "Get:50 http://archive.ubuntu.com/ubuntu bionic/main amd64 libgail-common amd64 2.24.32-1ubuntu1 [112 kB]\n",
            "Get:51 http://archive.ubuntu.com/ubuntu bionic/universe amd64 libglpk40 amd64 4.65-1 [378 kB]\n",
            "Get:52 http://archive.ubuntu.com/ubuntu bionic/main amd64 libwmf0.2-7 amd64 0.2.8.4-12 [150 kB]\n",
            "Get:53 http://archive.ubuntu.com/ubuntu bionic-updates/universe amd64 libgraphicsmagick-q16-3 amd64 1.3.28-2ubuntu0.1 [1,116 kB]\n",
            "Get:54 http://archive.ubuntu.com/ubuntu bionic-updates/universe amd64 libgraphicsmagick++-q16-12 amd64 1.3.28-2ubuntu0.1 [102 kB]\n",
            "Get:55 http://archive.ubuntu.com/ubuntu bionic/main amd64 libgtk2.0-bin amd64 2.24.32-1ubuntu1 [7,536 B]\n",
            "Get:56 http://archive.ubuntu.com/ubuntu bionic/main amd64 libhtml-tagset-perl all 3.20-3 [12.1 kB]\n",
            "Get:57 http://archive.ubuntu.com/ubuntu bionic/main amd64 liburi-perl all 1.73-1 [77.2 kB]\n",
            "Get:58 http://archive.ubuntu.com/ubuntu bionic/main amd64 libhtml-parser-perl amd64 3.72-3build1 [85.9 kB]\n",
            "Get:59 http://archive.ubuntu.com/ubuntu bionic/main amd64 libio-html-perl all 1.001-1 [14.9 kB]\n",
            "Get:60 http://archive.ubuntu.com/ubuntu bionic/main amd64 liblwp-mediatypes-perl all 6.02-1 [21.7 kB]\n",
            "Get:61 http://archive.ubuntu.com/ubuntu bionic/main amd64 libhttp-message-perl all 6.14-1 [72.1 kB]\n",
            "Get:62 http://archive.ubuntu.com/ubuntu bionic/main amd64 libhtml-form-perl all 6.03-1 [23.5 kB]\n",
            "Get:63 http://archive.ubuntu.com/ubuntu bionic/main amd64 libhtml-tree-perl all 5.07-1 [200 kB]\n",
            "Get:64 http://archive.ubuntu.com/ubuntu bionic/main amd64 libhtml-format-perl all 2.12-1 [41.3 kB]\n",
            "Get:65 http://archive.ubuntu.com/ubuntu bionic/main amd64 libhttp-cookies-perl all 6.04-1 [17.2 kB]\n",
            "Get:66 http://archive.ubuntu.com/ubuntu bionic-updates/main amd64 libhttp-daemon-perl all 6.01-1ubuntu0.1 [15.9 kB]\n",
            "Get:67 http://archive.ubuntu.com/ubuntu bionic/main amd64 libhttp-negotiate-perl all 6.00-2 [13.4 kB]\n",
            "Get:68 http://archive.ubuntu.com/ubuntu bionic/main amd64 perl-openssl-defaults amd64 3build1 [7,012 B]\n",
            "Get:69 http://archive.ubuntu.com/ubuntu bionic-updates/main amd64 libnet-ssleay-perl amd64 1.84-1ubuntu0.2 [283 kB]\n",
            "Get:70 http://archive.ubuntu.com/ubuntu bionic-updates/main amd64 libio-socket-ssl-perl all 2.060-3~ubuntu18.04.1 [173 kB]\n",
            "Get:71 http://archive.ubuntu.com/ubuntu bionic/main amd64 libnet-http-perl all 6.17-1 [22.7 kB]\n",
            "Get:72 http://archive.ubuntu.com/ubuntu bionic/main amd64 libtry-tiny-perl all 0.30-1 [20.5 kB]\n",
            "Get:73 http://archive.ubuntu.com/ubuntu bionic/main amd64 libwww-robotrules-perl all 6.01-1 [14.1 kB]\n",
            "Get:74 http://archive.ubuntu.com/ubuntu bionic-updates/main amd64 libwww-perl all 6.31-1ubuntu0.1 [137 kB]\n",
            "Get:75 http://archive.ubuntu.com/ubuntu bionic/main amd64 liblwp-protocol-https-perl all 6.07-2 [8,284 B]\n",
            "Get:76 http://archive.ubuntu.com/ubuntu bionic-updates/main amd64 libmagick++-6.q16-7 amd64 8:6.9.7.4+dfsg-16ubuntu6.14 [139 kB]\n",
            "Get:77 http://archive.ubuntu.com/ubuntu bionic/main amd64 libnet-smtp-ssl-perl all 1.04-1 [5,948 B]\n",
            "Get:78 http://archive.ubuntu.com/ubuntu bionic/main amd64 libmailtools-perl all 2.18-1 [74.0 kB]\n",
            "Get:79 http://archive.ubuntu.com/ubuntu bionic/universe amd64 libqrupdate1 amd64 1.1.2-2build1 [36.5 kB]\n",
            "Get:80 http://archive.ubuntu.com/ubuntu bionic/main amd64 libumfpack5 amd64 1:5.1.2-2 [229 kB]\n",
            "Get:81 http://archive.ubuntu.com/ubuntu bionic/universe amd64 liboctave4 amd64 4.2.2-1ubuntu1 [6,736 kB]\n",
            "Get:82 http://archive.ubuntu.com/ubuntu bionic/universe amd64 libplot2c2 amd64 2.6-9 [502 kB]\n",
            "Get:83 http://archive.ubuntu.com/ubuntu bionic/universe amd64 libportaudio2 amd64 19.6.0-1 [64.6 kB]\n",
            "Get:84 http://archive.ubuntu.com/ubuntu bionic/universe amd64 libzip4 amd64 1.1.2-1.1 [37.8 kB]\n",
            "Get:85 http://archive.ubuntu.com/ubuntu bionic/universe amd64 libpstoedit0c2a amd64 3.70-5 [349 kB]\n",
            "Get:86 http://archive.ubuntu.com/ubuntu bionic/universe amd64 libqscintilla2-qt5-l10n all 2.10.2+dfsg-4 [39.7 kB]\n",
            "Get:87 http://archive.ubuntu.com/ubuntu bionic/universe amd64 libqscintilla2-qt5-13 amd64 2.10.2+dfsg-4 [1,030 kB]\n",
            "Get:88 http://archive.ubuntu.com/ubuntu bionic-updates/main amd64 libqt5opengl5 amd64 5.9.5+dfsg-0ubuntu2.6 [132 kB]\n",
            "Get:89 http://archive.ubuntu.com/ubuntu bionic/universe amd64 libtext-unidecode-perl all 1.30-1 [99.0 kB]\n",
            "Get:90 http://archive.ubuntu.com/ubuntu bionic/main amd64 libxml-namespacesupport-perl all 1.12-1 [13.2 kB]\n",
            "Get:91 http://archive.ubuntu.com/ubuntu bionic/main amd64 libxml-sax-base-perl all 1.09-1 [18.8 kB]\n",
            "Get:92 http://archive.ubuntu.com/ubuntu bionic/main amd64 libxml-sax-perl all 0.99+dfsg-2ubuntu1 [64.6 kB]\n",
            "Get:93 http://archive.ubuntu.com/ubuntu bionic/main amd64 libxml-libxml-perl amd64 2.0128+dfsg-5 [316 kB]\n",
            "Get:94 http://archive.ubuntu.com/ubuntu bionic/main amd64 libxml-parser-perl amd64 2.44-2build3 [199 kB]\n",
            "Get:95 http://archive.ubuntu.com/ubuntu bionic/main amd64 libxml-sax-expat-perl all 0.40-2 [11.5 kB]\n",
            "Get:96 http://archive.ubuntu.com/ubuntu bionic/main amd64 notification-daemon amd64 3.20.0-3 [36.9 kB]\n",
            "Get:97 http://archive.ubuntu.com/ubuntu bionic/universe amd64 pstoedit amd64 3.70-5 [102 kB]\n",
            "Get:98 http://archive.ubuntu.com/ubuntu bionic/universe amd64 texinfo amd64 6.5.0.dfsg.1-2 [752 kB]\n",
            "Get:99 http://archive.ubuntu.com/ubuntu bionic/main amd64 libauthen-sasl-perl all 2.1600-1 [48.7 kB]\n",
            "Get:100 http://archive.ubuntu.com/ubuntu bionic-updates/main amd64 libosmesa6 amd64 20.0.8-0ubuntu1~18.04.1 [2,641 kB]\n",
            "Get:101 http://archive.ubuntu.com/ubuntu bionic/universe amd64 octave-common all 4.2.2-1ubuntu1 [1,444 kB]\n",
            "Get:102 http://archive.ubuntu.com/ubuntu bionic/universe amd64 octave amd64 4.2.2-1ubuntu1 [1,583 kB]\n",
            "Get:103 http://archive.ubuntu.com/ubuntu bionic/universe amd64 octave-doc all 4.2.2-1ubuntu1 [6,836 kB]\n",
            "Fetched 53.6 MB in 2s (27.0 MB/s)\n",
            "Extracting templates from packages: 100%\n",
            "Selecting previously unselected package install-info.\n",
            "(Reading database ... 124016 files and directories currently installed.)\n",
            "Preparing to unpack .../install-info_6.5.0.dfsg.1-2_amd64.deb ...\n",
            "Unpacking install-info (6.5.0.dfsg.1-2) ...\n",
            "Setting up install-info (6.5.0.dfsg.1-2) ...\n",
            "Selecting previously unselected package fonts-droid-fallback.\n",
            "(Reading database ... 124029 files and directories currently installed.)\n",
            "Preparing to unpack .../000-fonts-droid-fallback_1%3a6.0.1r16-1.1_all.deb ...\n",
            "Unpacking fonts-droid-fallback (1:6.0.1r16-1.1) ...\n",
            "Selecting previously unselected package liblqr-1-0:amd64.\n",
            "Preparing to unpack .../001-liblqr-1-0_0.4.2-2.1_amd64.deb ...\n",
            "Unpacking liblqr-1-0:amd64 (0.4.2-2.1) ...\n",
            "Selecting previously unselected package imagemagick-6-common.\n",
            "Preparing to unpack .../002-imagemagick-6-common_8%3a6.9.7.4+dfsg-16ubuntu6.14_all.deb ...\n",
            "Unpacking imagemagick-6-common (8:6.9.7.4+dfsg-16ubuntu6.14) ...\n",
            "Selecting previously unselected package libmagickcore-6.q16-3:amd64.\n",
            "Preparing to unpack .../003-libmagickcore-6.q16-3_8%3a6.9.7.4+dfsg-16ubuntu6.14_amd64.deb ...\n",
            "Unpacking libmagickcore-6.q16-3:amd64 (8:6.9.7.4+dfsg-16ubuntu6.14) ...\n",
            "Selecting previously unselected package libmagickwand-6.q16-3:amd64.\n",
            "Preparing to unpack .../004-libmagickwand-6.q16-3_8%3a6.9.7.4+dfsg-16ubuntu6.14_amd64.deb ...\n",
            "Unpacking libmagickwand-6.q16-3:amd64 (8:6.9.7.4+dfsg-16ubuntu6.14) ...\n",
            "Selecting previously unselected package libqt5svg5:amd64.\n",
            "Preparing to unpack .../005-libqt5svg5_5.9.5-0ubuntu1.1_amd64.deb ...\n",
            "Unpacking libqt5svg5:amd64 (5.9.5-0ubuntu1.1) ...\n",
            "Selecting previously unselected package poppler-data.\n",
            "Preparing to unpack .../006-poppler-data_0.4.8-2_all.deb ...\n",
            "Unpacking poppler-data (0.4.8-2) ...\n",
            "Selecting previously unselected package tex-common.\n",
            "Preparing to unpack .../007-tex-common_6.09_all.deb ...\n",
            "Unpacking tex-common (6.09) ...\n",
            "Selecting previously unselected package netbase.\n",
            "Preparing to unpack .../008-netbase_5.4_all.deb ...\n",
            "Unpacking netbase (5.4) ...\n",
            "Selecting previously unselected package info.\n",
            "Preparing to unpack .../009-info_6.5.0.dfsg.1-2_amd64.deb ...\n",
            "Unpacking info (6.5.0.dfsg.1-2) ...\n",
            "Selecting previously unselected package libcupsimage2:amd64.\n",
            "Preparing to unpack .../010-libcupsimage2_2.2.7-1ubuntu2.9_amd64.deb ...\n",
            "Unpacking libcupsimage2:amd64 (2.2.7-1ubuntu2.9) ...\n",
            "Selecting previously unselected package libijs-0.35:amd64.\n",
            "Preparing to unpack .../011-libijs-0.35_0.35-13_amd64.deb ...\n",
            "Unpacking libijs-0.35:amd64 (0.35-13) ...\n",
            "Selecting previously unselected package libjbig2dec0:amd64.\n",
            "Preparing to unpack .../012-libjbig2dec0_0.13-6_amd64.deb ...\n",
            "Unpacking libjbig2dec0:amd64 (0.13-6) ...\n",
            "Selecting previously unselected package libgs9-common.\n",
            "Preparing to unpack .../013-libgs9-common_9.26~dfsg+0-0ubuntu0.18.04.17_all.deb ...\n",
            "Unpacking libgs9-common (9.26~dfsg+0-0ubuntu0.18.04.17) ...\n",
            "Selecting previously unselected package libgs9:amd64.\n",
            "Preparing to unpack .../014-libgs9_9.26~dfsg+0-0ubuntu0.18.04.17_amd64.deb ...\n",
            "Unpacking libgs9:amd64 (9.26~dfsg+0-0ubuntu0.18.04.17) ...\n",
            "Selecting previously unselected package ghostscript.\n",
            "Preparing to unpack .../015-ghostscript_9.26~dfsg+0-0ubuntu0.18.04.17_amd64.deb ...\n",
            "Unpacking ghostscript (9.26~dfsg+0-0ubuntu0.18.04.17) ...\n",
            "Selecting previously unselected package epstool.\n",
            "Preparing to unpack .../016-epstool_3.08+repack-7_amd64.deb ...\n",
            "Unpacking epstool (3.08+repack-7) ...\n",
            "Selecting previously unselected package fonts-noto-mono.\n",
            "Preparing to unpack .../017-fonts-noto-mono_20171026-2_all.deb ...\n",
            "Unpacking fonts-noto-mono (20171026-2) ...\n",
            "Selecting previously unselected package aglfn.\n",
            "Preparing to unpack .../018-aglfn_1.7-3_all.deb ...\n",
            "Unpacking aglfn (1.7-3) ...\n",
            "Selecting previously unselected package gnuplot-data.\n",
            "Preparing to unpack .../019-gnuplot-data_5.2.2+dfsg1-2ubuntu1_all.deb ...\n",
            "Unpacking gnuplot-data (5.2.2+dfsg1-2ubuntu1) ...\n",
            "Selecting previously unselected package liblua5.3-0:amd64.\n",
            "Preparing to unpack .../020-liblua5.3-0_5.3.3-1ubuntu0.18.04.1_amd64.deb ...\n",
            "Unpacking liblua5.3-0:amd64 (5.3.3-1ubuntu0.18.04.1) ...\n",
            "Selecting previously unselected package libwxbase3.0-0v5:amd64.\n",
            "Preparing to unpack .../021-libwxbase3.0-0v5_3.0.4+dfsg-3_amd64.deb ...\n",
            "Unpacking libwxbase3.0-0v5:amd64 (3.0.4+dfsg-3) ...\n",
            "Selecting previously unselected package libgtk2.0-common.\n",
            "Preparing to unpack .../022-libgtk2.0-common_2.24.32-1ubuntu1_all.deb ...\n",
            "Unpacking libgtk2.0-common (2.24.32-1ubuntu1) ...\n",
            "Selecting previously unselected package libgtk2.0-0:amd64.\n",
            "Preparing to unpack .../023-libgtk2.0-0_2.24.32-1ubuntu1_amd64.deb ...\n",
            "Unpacking libgtk2.0-0:amd64 (2.24.32-1ubuntu1) ...\n",
            "Selecting previously unselected package libnotify4:amd64.\n",
            "Preparing to unpack .../024-libnotify4_0.7.7-3ubuntu0.18.04.1_amd64.deb ...\n",
            "Unpacking libnotify4:amd64 (0.7.7-3ubuntu0.18.04.1) ...\n",
            "Selecting previously unselected package libwxgtk3.0-0v5:amd64.\n",
            "Preparing to unpack .../025-libwxgtk3.0-0v5_3.0.4+dfsg-3_amd64.deb ...\n",
            "Unpacking libwxgtk3.0-0v5:amd64 (3.0.4+dfsg-3) ...\n",
            "Selecting previously unselected package gnuplot-qt.\n",
            "Preparing to unpack .../026-gnuplot-qt_5.2.2+dfsg1-2ubuntu1_amd64.deb ...\n",
            "Unpacking gnuplot-qt (5.2.2+dfsg1-2ubuntu1) ...\n",
            "Selecting previously unselected package gsfonts.\n",
            "Preparing to unpack .../027-gsfonts_1%3a8.11+urwcyr1.0.7~pre44-4.4_all.deb ...\n",
            "Unpacking gsfonts (1:8.11+urwcyr1.0.7~pre44-4.4) ...\n",
            "Selecting previously unselected package libsuitesparseconfig5:amd64.\n",
            "Preparing to unpack .../028-libsuitesparseconfig5_1%3a5.1.2-2_amd64.deb ...\n",
            "Unpacking libsuitesparseconfig5:amd64 (1:5.1.2-2) ...\n",
            "Selecting previously unselected package libamd2:amd64.\n",
            "Preparing to unpack .../029-libamd2_1%3a5.1.2-2_amd64.deb ...\n",
            "Unpacking libamd2:amd64 (1:5.1.2-2) ...\n",
            "Selecting previously unselected package libcamd2:amd64.\n",
            "Preparing to unpack .../030-libcamd2_1%3a5.1.2-2_amd64.deb ...\n",
            "Unpacking libcamd2:amd64 (1:5.1.2-2) ...\n",
            "Selecting previously unselected package libccolamd2:amd64.\n",
            "Preparing to unpack .../031-libccolamd2_1%3a5.1.2-2_amd64.deb ...\n",
            "Unpacking libccolamd2:amd64 (1:5.1.2-2) ...\n",
            "Selecting previously unselected package libcolamd2:amd64.\n",
            "Preparing to unpack .../032-libcolamd2_1%3a5.1.2-2_amd64.deb ...\n",
            "Unpacking libcolamd2:amd64 (1:5.1.2-2) ...\n",
            "Selecting previously unselected package libmetis5:amd64.\n",
            "Preparing to unpack .../033-libmetis5_5.1.0.dfsg-5_amd64.deb ...\n",
            "Unpacking libmetis5:amd64 (5.1.0.dfsg-5) ...\n",
            "Selecting previously unselected package libcholmod3:amd64.\n",
            "Preparing to unpack .../034-libcholmod3_1%3a5.1.2-2_amd64.deb ...\n",
            "Unpacking libcholmod3:amd64 (1:5.1.2-2) ...\n",
            "Selecting previously unselected package libcupsfilters1:amd64.\n",
            "Preparing to unpack .../035-libcupsfilters1_1.20.2-0ubuntu3.1_amd64.deb ...\n",
            "Unpacking libcupsfilters1:amd64 (1.20.2-0ubuntu3.1) ...\n",
            "Selecting previously unselected package libcxsparse3:amd64.\n",
            "Preparing to unpack .../036-libcxsparse3_1%3a5.1.2-2_amd64.deb ...\n",
            "Unpacking libcxsparse3:amd64 (1:5.1.2-2) ...\n",
            "Selecting previously unselected package libdata-dump-perl.\n",
            "Preparing to unpack .../037-libdata-dump-perl_1.23-1_all.deb ...\n",
            "Unpacking libdata-dump-perl (1.23-1) ...\n",
            "Selecting previously unselected package libemf1:amd64.\n",
            "Preparing to unpack .../038-libemf1_1.0.9+git.10.3231442-1_amd64.deb ...\n",
            "Unpacking libemf1:amd64 (1.0.9+git.10.3231442-1) ...\n",
            "Selecting previously unselected package libencode-locale-perl.\n",
            "Preparing to unpack .../039-libencode-locale-perl_1.05-1_all.deb ...\n",
            "Unpacking libencode-locale-perl (1.05-1) ...\n",
            "Selecting previously unselected package libfftw3-single3:amd64.\n",
            "Preparing to unpack .../040-libfftw3-single3_3.3.7-1_amd64.deb ...\n",
            "Unpacking libfftw3-single3:amd64 (3.3.7-1) ...\n",
            "Selecting previously unselected package libtimedate-perl.\n",
            "Preparing to unpack .../041-libtimedate-perl_2.3000-2_all.deb ...\n",
            "Unpacking libtimedate-perl (2.3000-2) ...\n",
            "Selecting previously unselected package libhttp-date-perl.\n",
            "Preparing to unpack .../042-libhttp-date-perl_6.02-1_all.deb ...\n",
            "Unpacking libhttp-date-perl (6.02-1) ...\n",
            "Selecting previously unselected package libfile-listing-perl.\n",
            "Preparing to unpack .../043-libfile-listing-perl_6.04-1_all.deb ...\n",
            "Unpacking libfile-listing-perl (6.04-1) ...\n",
            "Selecting previously unselected package libfltk1.3:amd64.\n",
            "Preparing to unpack .../044-libfltk1.3_1.3.4-6_amd64.deb ...\n",
            "Unpacking libfltk1.3:amd64 (1.3.4-6) ...\n",
            "Selecting previously unselected package libfltk-gl1.3:amd64.\n",
            "Preparing to unpack .../045-libfltk-gl1.3_1.3.4-6_amd64.deb ...\n",
            "Unpacking libfltk-gl1.3:amd64 (1.3.4-6) ...\n",
            "Selecting previously unselected package libfont-afm-perl.\n",
            "Preparing to unpack .../046-libfont-afm-perl_1.20-2_all.deb ...\n",
            "Unpacking libfont-afm-perl (1.20-2) ...\n",
            "Selecting previously unselected package libgail18:amd64.\n",
            "Preparing to unpack .../047-libgail18_2.24.32-1ubuntu1_amd64.deb ...\n",
            "Unpacking libgail18:amd64 (2.24.32-1ubuntu1) ...\n",
            "Selecting previously unselected package libgail-common:amd64.\n",
            "Preparing to unpack .../048-libgail-common_2.24.32-1ubuntu1_amd64.deb ...\n",
            "Unpacking libgail-common:amd64 (2.24.32-1ubuntu1) ...\n",
            "Selecting previously unselected package libglpk40:amd64.\n",
            "Preparing to unpack .../049-libglpk40_4.65-1_amd64.deb ...\n",
            "Unpacking libglpk40:amd64 (4.65-1) ...\n",
            "Selecting previously unselected package libwmf0.2-7:amd64.\n",
            "Preparing to unpack .../050-libwmf0.2-7_0.2.8.4-12_amd64.deb ...\n",
            "Unpacking libwmf0.2-7:amd64 (0.2.8.4-12) ...\n",
            "Selecting previously unselected package libgraphicsmagick-q16-3.\n",
            "Preparing to unpack .../051-libgraphicsmagick-q16-3_1.3.28-2ubuntu0.1_amd64.deb ...\n",
            "Unpacking libgraphicsmagick-q16-3 (1.3.28-2ubuntu0.1) ...\n",
            "Selecting previously unselected package libgraphicsmagick++-q16-12.\n",
            "Preparing to unpack .../052-libgraphicsmagick++-q16-12_1.3.28-2ubuntu0.1_amd64.deb ...\n",
            "Unpacking libgraphicsmagick++-q16-12 (1.3.28-2ubuntu0.1) ...\n",
            "Selecting previously unselected package libgtk2.0-bin.\n",
            "Preparing to unpack .../053-libgtk2.0-bin_2.24.32-1ubuntu1_amd64.deb ...\n",
            "Unpacking libgtk2.0-bin (2.24.32-1ubuntu1) ...\n",
            "Selecting previously unselected package libhtml-tagset-perl.\n",
            "Preparing to unpack .../054-libhtml-tagset-perl_3.20-3_all.deb ...\n",
            "Unpacking libhtml-tagset-perl (3.20-3) ...\n",
            "Selecting previously unselected package liburi-perl.\n",
            "Preparing to unpack .../055-liburi-perl_1.73-1_all.deb ...\n",
            "Unpacking liburi-perl (1.73-1) ...\n",
            "Selecting previously unselected package libhtml-parser-perl.\n",
            "Preparing to unpack .../056-libhtml-parser-perl_3.72-3build1_amd64.deb ...\n",
            "Unpacking libhtml-parser-perl (3.72-3build1) ...\n",
            "Selecting previously unselected package libio-html-perl.\n",
            "Preparing to unpack .../057-libio-html-perl_1.001-1_all.deb ...\n",
            "Unpacking libio-html-perl (1.001-1) ...\n",
            "Selecting previously unselected package liblwp-mediatypes-perl.\n",
            "Preparing to unpack .../058-liblwp-mediatypes-perl_6.02-1_all.deb ...\n",
            "Unpacking liblwp-mediatypes-perl (6.02-1) ...\n",
            "Selecting previously unselected package libhttp-message-perl.\n",
            "Preparing to unpack .../059-libhttp-message-perl_6.14-1_all.deb ...\n",
            "Unpacking libhttp-message-perl (6.14-1) ...\n",
            "Selecting previously unselected package libhtml-form-perl.\n",
            "Preparing to unpack .../060-libhtml-form-perl_6.03-1_all.deb ...\n",
            "Unpacking libhtml-form-perl (6.03-1) ...\n",
            "Selecting previously unselected package libhtml-tree-perl.\n",
            "Preparing to unpack .../061-libhtml-tree-perl_5.07-1_all.deb ...\n",
            "Unpacking libhtml-tree-perl (5.07-1) ...\n",
            "Selecting previously unselected package libhtml-format-perl.\n",
            "Preparing to unpack .../062-libhtml-format-perl_2.12-1_all.deb ...\n",
            "Unpacking libhtml-format-perl (2.12-1) ...\n",
            "Selecting previously unselected package libhttp-cookies-perl.\n",
            "Preparing to unpack .../063-libhttp-cookies-perl_6.04-1_all.deb ...\n",
            "Unpacking libhttp-cookies-perl (6.04-1) ...\n",
            "Selecting previously unselected package libhttp-daemon-perl.\n",
            "Preparing to unpack .../064-libhttp-daemon-perl_6.01-1ubuntu0.1_all.deb ...\n",
            "Unpacking libhttp-daemon-perl (6.01-1ubuntu0.1) ...\n",
            "Selecting previously unselected package libhttp-negotiate-perl.\n",
            "Preparing to unpack .../065-libhttp-negotiate-perl_6.00-2_all.deb ...\n",
            "Unpacking libhttp-negotiate-perl (6.00-2) ...\n",
            "Selecting previously unselected package perl-openssl-defaults:amd64.\n",
            "Preparing to unpack .../066-perl-openssl-defaults_3build1_amd64.deb ...\n",
            "Unpacking perl-openssl-defaults:amd64 (3build1) ...\n",
            "Selecting previously unselected package libnet-ssleay-perl.\n",
            "Preparing to unpack .../067-libnet-ssleay-perl_1.84-1ubuntu0.2_amd64.deb ...\n",
            "Unpacking libnet-ssleay-perl (1.84-1ubuntu0.2) ...\n",
            "Selecting previously unselected package libio-socket-ssl-perl.\n",
            "Preparing to unpack .../068-libio-socket-ssl-perl_2.060-3~ubuntu18.04.1_all.deb ...\n",
            "Unpacking libio-socket-ssl-perl (2.060-3~ubuntu18.04.1) ...\n",
            "Selecting previously unselected package libnet-http-perl.\n",
            "Preparing to unpack .../069-libnet-http-perl_6.17-1_all.deb ...\n",
            "Unpacking libnet-http-perl (6.17-1) ...\n",
            "Selecting previously unselected package libtry-tiny-perl.\n",
            "Preparing to unpack .../070-libtry-tiny-perl_0.30-1_all.deb ...\n",
            "Unpacking libtry-tiny-perl (0.30-1) ...\n",
            "Selecting previously unselected package libwww-robotrules-perl.\n",
            "Preparing to unpack .../071-libwww-robotrules-perl_6.01-1_all.deb ...\n",
            "Unpacking libwww-robotrules-perl (6.01-1) ...\n",
            "Selecting previously unselected package libwww-perl.\n",
            "Preparing to unpack .../072-libwww-perl_6.31-1ubuntu0.1_all.deb ...\n",
            "Unpacking libwww-perl (6.31-1ubuntu0.1) ...\n",
            "Selecting previously unselected package liblwp-protocol-https-perl.\n",
            "Preparing to unpack .../073-liblwp-protocol-https-perl_6.07-2_all.deb ...\n",
            "Unpacking liblwp-protocol-https-perl (6.07-2) ...\n",
            "Selecting previously unselected package libmagick++-6.q16-7:amd64.\n",
            "Preparing to unpack .../074-libmagick++-6.q16-7_8%3a6.9.7.4+dfsg-16ubuntu6.14_amd64.deb ...\n",
            "Unpacking libmagick++-6.q16-7:amd64 (8:6.9.7.4+dfsg-16ubuntu6.14) ...\n",
            "Selecting previously unselected package libnet-smtp-ssl-perl.\n",
            "Preparing to unpack .../075-libnet-smtp-ssl-perl_1.04-1_all.deb ...\n",
            "Unpacking libnet-smtp-ssl-perl (1.04-1) ...\n",
            "Selecting previously unselected package libmailtools-perl.\n",
            "Preparing to unpack .../076-libmailtools-perl_2.18-1_all.deb ...\n",
            "Unpacking libmailtools-perl (2.18-1) ...\n",
            "Selecting previously unselected package libqrupdate1:amd64.\n",
            "Preparing to unpack .../077-libqrupdate1_1.1.2-2build1_amd64.deb ...\n",
            "Unpacking libqrupdate1:amd64 (1.1.2-2build1) ...\n",
            "Selecting previously unselected package libumfpack5:amd64.\n",
            "Preparing to unpack .../078-libumfpack5_1%3a5.1.2-2_amd64.deb ...\n",
            "Unpacking libumfpack5:amd64 (1:5.1.2-2) ...\n",
            "Selecting previously unselected package liboctave4:amd64.\n",
            "Preparing to unpack .../079-liboctave4_4.2.2-1ubuntu1_amd64.deb ...\n",
            "Unpacking liboctave4:amd64 (4.2.2-1ubuntu1) ...\n",
            "Selecting previously unselected package libplot2c2:amd64.\n",
            "Preparing to unpack .../080-libplot2c2_2.6-9_amd64.deb ...\n",
            "Unpacking libplot2c2:amd64 (2.6-9) ...\n",
            "Selecting previously unselected package libportaudio2:amd64.\n",
            "Preparing to unpack .../081-libportaudio2_19.6.0-1_amd64.deb ...\n",
            "Unpacking libportaudio2:amd64 (19.6.0-1) ...\n",
            "Selecting previously unselected package libzip4:amd64.\n",
            "Preparing to unpack .../082-libzip4_1.1.2-1.1_amd64.deb ...\n",
            "Unpacking libzip4:amd64 (1.1.2-1.1) ...\n",
            "Selecting previously unselected package libpstoedit0c2a.\n",
            "Preparing to unpack .../083-libpstoedit0c2a_3.70-5_amd64.deb ...\n",
            "Unpacking libpstoedit0c2a (3.70-5) ...\n",
            "Selecting previously unselected package libqscintilla2-qt5-l10n.\n",
            "Preparing to unpack .../084-libqscintilla2-qt5-l10n_2.10.2+dfsg-4_all.deb ...\n",
            "Unpacking libqscintilla2-qt5-l10n (2.10.2+dfsg-4) ...\n",
            "Selecting previously unselected package libqscintilla2-qt5-13.\n",
            "Preparing to unpack .../085-libqscintilla2-qt5-13_2.10.2+dfsg-4_amd64.deb ...\n",
            "Unpacking libqscintilla2-qt5-13 (2.10.2+dfsg-4) ...\n",
            "Selecting previously unselected package libqt5opengl5:amd64.\n",
            "Preparing to unpack .../086-libqt5opengl5_5.9.5+dfsg-0ubuntu2.6_amd64.deb ...\n",
            "Unpacking libqt5opengl5:amd64 (5.9.5+dfsg-0ubuntu2.6) ...\n",
            "Selecting previously unselected package libtext-unidecode-perl.\n",
            "Preparing to unpack .../087-libtext-unidecode-perl_1.30-1_all.deb ...\n",
            "Unpacking libtext-unidecode-perl (1.30-1) ...\n",
            "Selecting previously unselected package libxml-namespacesupport-perl.\n",
            "Preparing to unpack .../088-libxml-namespacesupport-perl_1.12-1_all.deb ...\n",
            "Unpacking libxml-namespacesupport-perl (1.12-1) ...\n",
            "Selecting previously unselected package libxml-sax-base-perl.\n",
            "Preparing to unpack .../089-libxml-sax-base-perl_1.09-1_all.deb ...\n",
            "Unpacking libxml-sax-base-perl (1.09-1) ...\n",
            "Selecting previously unselected package libxml-sax-perl.\n",
            "Preparing to unpack .../090-libxml-sax-perl_0.99+dfsg-2ubuntu1_all.deb ...\n",
            "Unpacking libxml-sax-perl (0.99+dfsg-2ubuntu1) ...\n",
            "Selecting previously unselected package libxml-libxml-perl.\n",
            "Preparing to unpack .../091-libxml-libxml-perl_2.0128+dfsg-5_amd64.deb ...\n",
            "Unpacking libxml-libxml-perl (2.0128+dfsg-5) ...\n",
            "Selecting previously unselected package libxml-parser-perl.\n",
            "Preparing to unpack .../092-libxml-parser-perl_2.44-2build3_amd64.deb ...\n",
            "Unpacking libxml-parser-perl (2.44-2build3) ...\n",
            "Selecting previously unselected package libxml-sax-expat-perl.\n",
            "Preparing to unpack .../093-libxml-sax-expat-perl_0.40-2_all.deb ...\n",
            "Unpacking libxml-sax-expat-perl (0.40-2) ...\n",
            "Selecting previously unselected package notification-daemon.\n",
            "Preparing to unpack .../094-notification-daemon_3.20.0-3_amd64.deb ...\n",
            "Unpacking notification-daemon (3.20.0-3) ...\n",
            "Selecting previously unselected package pstoedit.\n",
            "Preparing to unpack .../095-pstoedit_3.70-5_amd64.deb ...\n",
            "Unpacking pstoedit (3.70-5) ...\n",
            "Selecting previously unselected package texinfo.\n",
            "Preparing to unpack .../096-texinfo_6.5.0.dfsg.1-2_amd64.deb ...\n",
            "Unpacking texinfo (6.5.0.dfsg.1-2) ...\n",
            "Selecting previously unselected package libauthen-sasl-perl.\n",
            "Preparing to unpack .../097-libauthen-sasl-perl_2.1600-1_all.deb ...\n",
            "Unpacking libauthen-sasl-perl (2.1600-1) ...\n",
            "Selecting previously unselected package libosmesa6:amd64.\n",
            "Preparing to unpack .../098-libosmesa6_20.0.8-0ubuntu1~18.04.1_amd64.deb ...\n",
            "Unpacking libosmesa6:amd64 (20.0.8-0ubuntu1~18.04.1) ...\n",
            "Selecting previously unselected package octave-common.\n",
            "Preparing to unpack .../099-octave-common_4.2.2-1ubuntu1_all.deb ...\n",
            "Unpacking octave-common (4.2.2-1ubuntu1) ...\n",
            "Selecting previously unselected package octave.\n",
            "Preparing to unpack .../100-octave_4.2.2-1ubuntu1_amd64.deb ...\n",
            "Unpacking octave (4.2.2-1ubuntu1) ...\n",
            "Selecting previously unselected package octave-doc.\n",
            "Preparing to unpack .../101-octave-doc_4.2.2-1ubuntu1_all.deb ...\n",
            "Unpacking octave-doc (4.2.2-1ubuntu1) ...\n",
            "Setting up libgs9-common (9.26~dfsg+0-0ubuntu0.18.04.17) ...\n",
            "Setting up libhtml-tagset-perl (3.20-3) ...\n",
            "Setting up imagemagick-6-common (8:6.9.7.4+dfsg-16ubuntu6.14) ...\n",
            "Setting up libnotify4:amd64 (0.7.7-3ubuntu0.18.04.1) ...\n",
            "Setting up libcxsparse3:amd64 (1:5.1.2-2) ...\n",
            "Setting up libtry-tiny-perl (0.30-1) ...\n",
            "Setting up fonts-droid-fallback (1:6.0.1r16-1.1) ...\n",
            "Setting up libfont-afm-perl (1.20-2) ...\n",
            "Setting up libgtk2.0-common (2.24.32-1ubuntu1) ...\n",
            "Setting up info (6.5.0.dfsg.1-2) ...\n",
            "update-alternatives: using /usr/bin/info to provide /usr/bin/infobrowser (infobrowser) in auto mode\n",
            "Setting up libportaudio2:amd64 (19.6.0-1) ...\n",
            "Setting up tex-common (6.09) ...\n",
            "update-language: texlive-base not installed and configured, doing nothing!\n",
            "Setting up libxml-namespacesupport-perl (1.12-1) ...\n",
            "Setting up gsfonts (1:8.11+urwcyr1.0.7~pre44-4.4) ...\n",
            "Setting up libencode-locale-perl (1.05-1) ...\n",
            "Setting up libtimedate-perl (2.3000-2) ...\n",
            "Setting up poppler-data (0.4.8-2) ...\n",
            "Setting up perl-openssl-defaults:amd64 (3build1) ...\n",
            "Setting up libosmesa6:amd64 (20.0.8-0ubuntu1~18.04.1) ...\n",
            "Setting up libio-html-perl (1.001-1) ...\n",
            "Setting up libtext-unidecode-perl (1.30-1) ...\n",
            "Setting up libqt5opengl5:amd64 (5.9.5+dfsg-0ubuntu2.6) ...\n",
            "Setting up fonts-noto-mono (20171026-2) ...\n",
            "Setting up libwxbase3.0-0v5:amd64 (3.0.4+dfsg-3) ...\n",
            "Setting up libqrupdate1:amd64 (1.1.2-2build1) ...\n",
            "Setting up libcupsfilters1:amd64 (1.20.2-0ubuntu3.1) ...\n",
            "Setting up libzip4:amd64 (1.1.2-1.1) ...\n",
            "Setting up libcupsimage2:amd64 (2.2.7-1ubuntu2.9) ...\n",
            "Setting up libxml-sax-base-perl (1.09-1) ...\n",
            "Setting up liblqr-1-0:amd64 (0.4.2-2.1) ...\n",
            "Setting up libjbig2dec0:amd64 (0.13-6) ...\n",
            "Setting up liblwp-mediatypes-perl (6.02-1) ...\n",
            "Setting up liburi-perl (1.73-1) ...\n",
            "Setting up libqt5svg5:amd64 (5.9.5-0ubuntu1.1) ...\n",
            "Setting up libsuitesparseconfig5:amd64 (1:5.1.2-2) ...\n",
            "Setting up libmetis5:amd64 (5.1.0.dfsg-5) ...\n",
            "Setting up libdata-dump-perl (1.23-1) ...\n",
            "Setting up libhtml-parser-perl (3.72-3build1) ...\n",
            "Setting up libijs-0.35:amd64 (0.35-13) ...\n",
            "Setting up libcolamd2:amd64 (1:5.1.2-2) ...\n",
            "Setting up libfltk1.3:amd64 (1.3.4-6) ...\n",
            "Setting up libccolamd2:amd64 (1:5.1.2-2) ...\n",
            "Setting up libfftw3-single3:amd64 (3.3.7-1) ...\n",
            "Setting up octave-common (4.2.2-1ubuntu1) ...\n",
            "Setting up libnet-http-perl (6.17-1) ...\n",
            "Setting up libqscintilla2-qt5-l10n (2.10.2+dfsg-4) ...\n",
            "Setting up libemf1:amd64 (1.0.9+git.10.3231442-1) ...\n",
            "Setting up aglfn (1.7-3) ...\n",
            "Setting up libplot2c2:amd64 (2.6-9) ...\n",
            "Setting up liblua5.3-0:amd64 (5.3.3-1ubuntu0.18.04.1) ...\n",
            "Setting up libgs9:amd64 (9.26~dfsg+0-0ubuntu0.18.04.17) ...\n",
            "Setting up libwmf0.2-7:amd64 (0.2.8.4-12) ...\n",
            "Setting up libwww-robotrules-perl (6.01-1) ...\n",
            "Setting up libauthen-sasl-perl (2.1600-1) ...\n",
            "Setting up notification-daemon (3.20.0-3) ...\n",
            "Setting up octave-doc (4.2.2-1ubuntu1) ...\n",
            "Setting up netbase (5.4) ...\n",
            "Setting up libxml-sax-perl (0.99+dfsg-2ubuntu1) ...\n",
            "update-perl-sax-parsers: Registering Perl SAX parser XML::SAX::PurePerl with priority 10...\n",
            "update-perl-sax-parsers: Updating overall Perl SAX parser modules info file...\n",
            "\n",
            "Creating config file /etc/perl/XML/SAX/ParserDetails.ini with new version\n",
            "Setting up libgtk2.0-0:amd64 (2.24.32-1ubuntu1) ...\n",
            "Setting up libhttp-date-perl (6.02-1) ...\n",
            "Setting up libmagickcore-6.q16-3:amd64 (8:6.9.7.4+dfsg-16ubuntu6.14) ...\n",
            "Setting up libgail18:amd64 (2.24.32-1ubuntu1) ...\n",
            "Setting up libnet-ssleay-perl (1.84-1ubuntu0.2) ...\n",
            "Setting up libfltk-gl1.3:amd64 (1.3.4-6) ...\n",
            "Setting up libcamd2:amd64 (1:5.1.2-2) ...\n",
            "Setting up libqscintilla2-qt5-13 (2.10.2+dfsg-4) ...\n",
            "Setting up libwxgtk3.0-0v5:amd64 (3.0.4+dfsg-3) ...\n",
            "Setting up libgail-common:amd64 (2.24.32-1ubuntu1) ...\n",
            "Setting up ghostscript (9.26~dfsg+0-0ubuntu0.18.04.17) ...\n",
            "Setting up gnuplot-data (5.2.2+dfsg1-2ubuntu1) ...\n",
            "Setting up libio-socket-ssl-perl (2.060-3~ubuntu18.04.1) ...\n",
            "Setting up libgraphicsmagick-q16-3 (1.3.28-2ubuntu0.1) ...\n",
            "Setting up libhtml-tree-perl (5.07-1) ...\n",
            "Setting up libamd2:amd64 (1:5.1.2-2) ...\n",
            "Setting up libmagickwand-6.q16-3:amd64 (8:6.9.7.4+dfsg-16ubuntu6.14) ...\n",
            "Setting up libfile-listing-perl (6.04-1) ...\n",
            "Setting up libhttp-message-perl (6.14-1) ...\n",
            "Setting up libxml-libxml-perl (2.0128+dfsg-5) ...\n",
            "update-perl-sax-parsers: Registering Perl SAX parser XML::LibXML::SAX::Parser with priority 50...\n",
            "update-perl-sax-parsers: Registering Perl SAX parser XML::LibXML::SAX with priority 50...\n",
            "update-perl-sax-parsers: Updating overall Perl SAX parser modules info file...\n",
            "Replacing config file /etc/perl/XML/SAX/ParserDetails.ini with new version\n",
            "Setting up libhttp-negotiate-perl (6.00-2) ...\n",
            "Setting up libgtk2.0-bin (2.24.32-1ubuntu1) ...\n",
            "Setting up libgraphicsmagick++-q16-12 (1.3.28-2ubuntu0.1) ...\n",
            "Setting up libnet-smtp-ssl-perl (1.04-1) ...\n",
            "Setting up libhtml-format-perl (2.12-1) ...\n",
            "Setting up libglpk40:amd64 (4.65-1) ...\n",
            "Setting up libhttp-cookies-perl (6.04-1) ...\n",
            "Setting up gnuplot-qt (5.2.2+dfsg1-2ubuntu1) ...\n",
            "update-alternatives: using /usr/bin/gnuplot-qt to provide /usr/bin/gnuplot (gnuplot) in auto mode\n",
            "Setting up epstool (3.08+repack-7) ...\n",
            "Setting up libhttp-daemon-perl (6.01-1ubuntu0.1) ...\n",
            "Setting up libcholmod3:amd64 (1:5.1.2-2) ...\n",
            "Setting up libmagick++-6.q16-7:amd64 (8:6.9.7.4+dfsg-16ubuntu6.14) ...\n",
            "Setting up libpstoedit0c2a (3.70-5) ...\n",
            "Setting up libhtml-form-perl (6.03-1) ...\n",
            "Setting up texinfo (6.5.0.dfsg.1-2) ...\n",
            "Setting up libmailtools-perl (2.18-1) ...\n",
            "Setting up libumfpack5:amd64 (1:5.1.2-2) ...\n",
            "Setting up pstoedit (3.70-5) ...\n",
            "Setting up liboctave4:amd64 (4.2.2-1ubuntu1) ...\n",
            "Setting up octave (4.2.2-1ubuntu1) ...\n",
            "Setting up liblwp-protocol-https-perl (6.07-2) ...\n",
            "Setting up libwww-perl (6.31-1ubuntu0.1) ...\n",
            "Setting up libxml-parser-perl (2.44-2build3) ...\n",
            "Setting up libxml-sax-expat-perl (0.40-2) ...\n",
            "update-perl-sax-parsers: Registering Perl SAX parser XML::SAX::Expat with priority 50...\n",
            "update-perl-sax-parsers: Updating overall Perl SAX parser modules info file...\n",
            "Replacing config file /etc/perl/XML/SAX/ParserDetails.ini with new version\n",
            "Processing triggers for fontconfig (2.12.6-0ubuntu2) ...\n",
            "Processing triggers for mime-support (3.60ubuntu1) ...\n",
            "Processing triggers for install-info (6.5.0.dfsg.1-2) ...\n",
            "Processing triggers for libc-bin (2.27-3ubuntu1.6) ...\n",
            "Processing triggers for man-db (2.8.3-2ubuntu0.1) ...\n",
            "Processing triggers for hicolor-icon-theme (0.17-2) ...\n",
            "Ign:1 https://developer.download.nvidia.com/compute/machine-learning/repos/ubuntu1804/x86_64  InRelease\n",
            "Hit:2 https://developer.download.nvidia.com/compute/cuda/repos/ubuntu1804/x86_64  InRelease\n",
            "Hit:3 https://developer.download.nvidia.com/compute/machine-learning/repos/ubuntu1804/x86_64  Release\n",
            "Get:4 http://security.ubuntu.com/ubuntu bionic-security InRelease [88.7 kB]\n",
            "Get:5 http://ppa.launchpad.net/c2d4u.team/c2d4u4.0+/ubuntu bionic InRelease [15.9 kB]\n",
            "Hit:6 http://archive.ubuntu.com/ubuntu bionic InRelease\n",
            "Get:7 http://archive.ubuntu.com/ubuntu bionic-updates InRelease [88.7 kB]\n",
            "Get:8 https://cloud.r-project.org/bin/linux/ubuntu bionic-cran40/ InRelease [3,626 B]\n",
            "Hit:9 http://ppa.launchpad.net/cran/libgit2/ubuntu bionic InRelease\n",
            "Hit:11 http://ppa.launchpad.net/deadsnakes/ppa/ubuntu bionic InRelease\n",
            "Get:12 http://archive.ubuntu.com/ubuntu bionic-backports InRelease [83.3 kB]\n",
            "Hit:13 http://ppa.launchpad.net/graphics-drivers/ppa/ubuntu bionic InRelease\n",
            "Get:14 http://ppa.launchpad.net/c2d4u.team/c2d4u4.0+/ubuntu bionic/main Sources [2,235 kB]\n",
            "Get:15 http://ppa.launchpad.net/c2d4u.team/c2d4u4.0+/ubuntu bionic/main amd64 Packages [1,143 kB]\n",
            "Fetched 3,659 kB in 3s (1,217 kB/s)\n",
            "Reading package lists... Done\n",
            "Building dependency tree       \n",
            "Reading state information... Done\n",
            "20 packages can be upgraded. Run 'apt list --upgradable' to see them.\n"
          ]
        }
      ]
    },
    {
      "cell_type": "code",
      "source": [
        "%%writefile diagonaliza.m\n",
        "A = [-1,-2,3,-1; 0,2,0,0; 0,0,2,0; 0,0,0,1]\n",
        "[P,D]=eig(A)\n",
        "Dcubo = D^3\n",
        "Acubo = A^3\n",
        "PxDcuboXPinv = P*Dcubo*P^-1"
      ],
      "metadata": {
        "colab": {
          "base_uri": "https://localhost:8080/"
        },
        "id": "oxFGjxuPlYXM",
        "outputId": "9c3e9fb5-e8f1-40d8-bbb9-37f4c5c33548"
      },
      "execution_count": 4,
      "outputs": [
        {
          "output_type": "stream",
          "name": "stdout",
          "text": [
            "Writing diagonaliza.m\n"
          ]
        }
      ]
    },
    {
      "cell_type": "code",
      "source": [
        "!octave diagonaliza.m"
      ],
      "metadata": {
        "colab": {
          "base_uri": "https://localhost:8080/"
        },
        "id": "EovQln11lbtG",
        "outputId": "b4479ed0-0309-41ac-8d6c-a181c994a9c0"
      },
      "execution_count": 5,
      "outputs": [
        {
          "output_type": "stream",
          "name": "stdout",
          "text": [
            "octave: X11 DISPLAY environment variable not set\n",
            "octave: disabling GUI features\n",
            "A =\n",
            "\n",
            "  -1  -2   3  -1\n",
            "   0   2   0   0\n",
            "   0   0   2   0\n",
            "   0   0   0   1\n",
            "\n",
            "P =\n",
            "\n",
            "   1.00000  -0.55470   0.70711  -0.44721\n",
            "   0.00000   0.83205   0.00000   0.00000\n",
            "   0.00000   0.00000   0.70711   0.00000\n",
            "   0.00000   0.00000   0.00000   0.89443\n",
            "\n",
            "D =\n",
            "\n",
            "Diagonal Matrix\n",
            "\n",
            "  -1   0   0   0\n",
            "   0   2   0   0\n",
            "   0   0   2   0\n",
            "   0   0   0   1\n",
            "\n",
            "Dcubo =\n",
            "\n",
            "Diagonal Matrix\n",
            "\n",
            "  -1   0   0   0\n",
            "   0   8   0   0\n",
            "   0   0   8   0\n",
            "   0   0   0   1\n",
            "\n",
            "Acubo =\n",
            "\n",
            "  -1  -6   9  -1\n",
            "   0   8   0   0\n",
            "   0   0   8   0\n",
            "   0   0   0   1\n",
            "\n",
            "PxDcuboXPinv =\n",
            "\n",
            "  -1  -6   9  -1\n",
            "   0   8   0   0\n",
            "   0   0   8   0\n",
            "   0   0   0   1\n",
            "\n"
          ]
        }
      ]
    },
    {
      "cell_type": "markdown",
      "source": [
        "## Práctica 3.9\n",
        "**Libertad para elegir el lugar de trabajo**  \n",
        "Resolver con **Octave**.\n",
        "\n",
        "Una empresa de 1.000 empleados permite que sus trabajadores cada día acudan a trabajar a la oficina o que realicen su trabajo desde su casa. Inicialmente el 90% de la plantilla trabajaba en la oficina y solo el 10% lo hacían en casa. Se ha observado que los que un día trabajan en casa tienen una probabilidad del 70% de realizarlo también desde casa al día siguiente, pero que en el restante 30% de los casos acuden a la oficina al día siguiente. Por el contrario, se ha observado que los que un día trabajaron en la oficina al día siguiente vuelven\n",
        "a la oficina en el 60% de los casos y en el 40% restante van a su casa al día siguiente.\n",
        "* Determinar qué número de empleados se quedan en casa transcurridos dos días.\n",
        "* ¿Y a largo plazo cuantos se quedan en casa?"
      ],
      "metadata": {
        "id": "Aw283nkjdtcQ"
      }
    },
    {
      "cell_type": "markdown",
      "source": [
        "<img src=\"https://github.com/financieras/math/blob/main/img/grafo_markov09.png?raw=1\" alt=\"autosABC\" width=\"300\">\n",
        "\n",
        "* Empleados = 1.000\n",
        "* Vector de estado inicial $\\begin{align*}\n",
        "    X_0 &= \\begin{pmatrix}\n",
        "           0.90 \\\\\n",
        "           0.10\n",
        "         \\end{pmatrix}\n",
        "  \\end{align*}$\n",
        "* Matriz de transición $\\begin{align*}\n",
        "    A &= \\begin{pmatrix}\n",
        "           0.60 & 0.30 \\\\\n",
        "           0.40 & 0.70\n",
        "         \\end{pmatrix}\n",
        "  \\end{align*}$\n",
        "* Estado a los dos días $$X_2 = A^2 X_0 = \\begin{align*}\n",
        "    \\begin{pmatrix}\n",
        "           0.60 & 0.30 \\\\\n",
        "           0.40 & 0.70\n",
        "         \\end{pmatrix}^2\n",
        "    \\begin{pmatrix}\n",
        "           0.90 \\\\\n",
        "           0.10\n",
        "         \\end{pmatrix} = \n",
        "    \\begin{pmatrix}\n",
        "           0.48 & 0.39 \\\\\n",
        "           0.52 & 0.61\n",
        "         \\end{pmatrix}\n",
        "    \\begin{pmatrix}\n",
        "           0.90 \\\\\n",
        "           0.10\n",
        "         \\end{pmatrix} =\n",
        "        \\begin{pmatrix}\n",
        "           0.471 \\\\\n",
        "           0.529\n",
        "         \\end{pmatrix}\n",
        "  \\end{align*}$$\n",
        "\n",
        "* Estado a los diez días $$X_{20} = A^{10} X_0 = \\begin{align*}\n",
        "    \\begin{pmatrix}\n",
        "           0.60 & 0.30 \\\\\n",
        "           0.40 & 09.70\n",
        "         \\end{pmatrix}^{10}\n",
        "    \\begin{pmatrix}\n",
        "           0.90 \\\\\n",
        "           0.10\n",
        "         \\end{pmatrix} = \n",
        "    \\begin{pmatrix}\n",
        "           0.42857 \\\\\n",
        "           0.57143\n",
        "         \\end{pmatrix}\n",
        "  \\end{align*}$$\n",
        "\n"
      ],
      "metadata": {
        "id": "5J3NkcDHwb2L"
      }
    },
    {
      "cell_type": "code",
      "source": [
        "!apt update\n",
        "!apt install octave"
      ],
      "metadata": {
        "colab": {
          "base_uri": "https://localhost:8080/"
        },
        "id": "wpNPZ_wExJMu",
        "outputId": "741ad0b3-31ef-498f-e038-d2a6413792ec"
      },
      "execution_count": 1,
      "outputs": [
        {
          "output_type": "stream",
          "name": "stdout",
          "text": [
            "\u001b[33m\r0% [Working]\u001b[0m\r            \rGet:1 https://cloud.r-project.org/bin/linux/ubuntu bionic-cran40/ InRelease [3,626 B]\n",
            "\u001b[33m\r0% [Waiting for headers] [Waiting for headers] [1 InRelease 0 B/3,626 B 0%] [Co\u001b[0m\u001b[33m\r0% [Waiting for headers] [Waiting for headers] [Connected to developer.download\u001b[0m\r                                                                               \rHit:2 http://archive.ubuntu.com/ubuntu bionic InRelease\n",
            "\r                                                                               \rGet:3 http://security.ubuntu.com/ubuntu bionic-security InRelease [88.7 kB]\n",
            "\u001b[33m\r0% [Waiting for headers] [3 InRelease 14.2 kB/88.7 kB 16%] [Connected to develo\u001b[0m\u001b[33m\r0% [1 InRelease gpgv 3,626 B] [Waiting for headers] [3 InRelease 14.2 kB/88.7 k\u001b[0m\r                                                                               \rGet:4 http://archive.ubuntu.com/ubuntu bionic-updates InRelease [88.7 kB]\n",
            "\u001b[33m\r0% [1 InRelease gpgv 3,626 B] [4 InRelease 14.2 kB/88.7 kB 16%] [3 InRelease 20\u001b[0m\u001b[33m\r0% [1 InRelease gpgv 3,626 B] [4 InRelease 41.7 kB/88.7 kB 47%] [Waiting for he\u001b[0m\u001b[33m\r0% [1 InRelease gpgv 3,626 B] [Waiting for headers] [Waiting for headers] [Wait\u001b[0m\r                                                                               \rGet:5 http://archive.ubuntu.com/ubuntu bionic-backports InRelease [83.3 kB]\n",
            "\u001b[33m\r0% [1 InRelease gpgv 3,626 B] [5 InRelease 8,396 B/83.3 kB 10%] [Waiting for he\u001b[0m\u001b[33m\r                                                                               \r0% [1 InRelease gpgv 3,626 B] [Waiting for headers] [Waiting for headers]\u001b[0m\r                                                                         \rGet:6 http://ppa.launchpad.net/c2d4u.team/c2d4u4.0+/ubuntu bionic InRelease [15.9 kB]\n",
            "\u001b[33m\r0% [1 InRelease gpgv 3,626 B] [Waiting for headers] [6 InRelease 14.2 kB/15.9 k\u001b[0m\r                                                                               \rIgn:7 https://developer.download.nvidia.com/compute/machine-learning/repos/ubuntu1804/x86_64  InRelease\n",
            "\u001b[33m\r0% [1 InRelease gpgv 3,626 B] [Waiting for headers] [6 InRelease 14.2 kB/15.9 k\u001b[0m\r                                                                               \rHit:8 https://developer.download.nvidia.com/compute/cuda/repos/ubuntu1804/x86_64  InRelease\n",
            "Hit:9 https://developer.download.nvidia.com/compute/machine-learning/repos/ubuntu1804/x86_64  Release\n",
            "Hit:10 http://ppa.launchpad.net/cran/libgit2/ubuntu bionic InRelease\n",
            "Hit:11 http://ppa.launchpad.net/deadsnakes/ppa/ubuntu bionic InRelease\n",
            "Hit:12 http://ppa.launchpad.net/graphics-drivers/ppa/ubuntu bionic InRelease\n",
            "Get:14 http://ppa.launchpad.net/c2d4u.team/c2d4u4.0+/ubuntu bionic/main Sources [2,235 kB]\n",
            "Get:15 http://ppa.launchpad.net/c2d4u.team/c2d4u4.0+/ubuntu bionic/main amd64 Packages [1,143 kB]\n",
            "Fetched 3,659 kB in 3s (1,335 kB/s)\n",
            "Reading package lists... Done\n",
            "Building dependency tree       \n",
            "Reading state information... Done\n",
            "20 packages can be upgraded. Run 'apt list --upgradable' to see them.\n",
            "Reading package lists... Done\n",
            "Building dependency tree       \n",
            "Reading state information... Done\n",
            "The following package was automatically installed and is no longer required:\n",
            "  libnvidia-common-460\n",
            "Use 'apt autoremove' to remove it.\n",
            "The following additional packages will be installed:\n",
            "  aglfn epstool fonts-droid-fallback fonts-noto-mono ghostscript gnuplot-data\n",
            "  gnuplot-qt gsfonts imagemagick-6-common info install-info libamd2\n",
            "  libauthen-sasl-perl libcamd2 libccolamd2 libcholmod3 libcolamd2\n",
            "  libcupsfilters1 libcupsimage2 libcxsparse3 libdata-dump-perl libemf1\n",
            "  libencode-locale-perl libfftw3-single3 libfile-listing-perl libfltk-gl1.3\n",
            "  libfltk1.3 libfont-afm-perl libgail-common libgail18 libglpk40\n",
            "  libgraphicsmagick++-q16-12 libgraphicsmagick-q16-3 libgs9 libgs9-common\n",
            "  libgtk2.0-0 libgtk2.0-bin libgtk2.0-common libhtml-form-perl\n",
            "  libhtml-format-perl libhtml-parser-perl libhtml-tagset-perl\n",
            "  libhtml-tree-perl libhttp-cookies-perl libhttp-daemon-perl libhttp-date-perl\n",
            "  libhttp-message-perl libhttp-negotiate-perl libijs-0.35 libio-html-perl\n",
            "  libio-socket-ssl-perl libjbig2dec0 liblqr-1-0 liblua5.3-0\n",
            "  liblwp-mediatypes-perl liblwp-protocol-https-perl libmagick++-6.q16-7\n",
            "  libmagickcore-6.q16-3 libmagickwand-6.q16-3 libmailtools-perl libmetis5\n",
            "  libnet-http-perl libnet-smtp-ssl-perl libnet-ssleay-perl libnotify4\n",
            "  liboctave4 libosmesa6 libplot2c2 libportaudio2 libpstoedit0c2a libqrupdate1\n",
            "  libqscintilla2-qt5-13 libqscintilla2-qt5-l10n libqt5opengl5 libqt5svg5\n",
            "  libsuitesparseconfig5 libtext-unidecode-perl libtimedate-perl\n",
            "  libtry-tiny-perl libumfpack5 liburi-perl libwmf0.2-7 libwww-perl\n",
            "  libwww-robotrules-perl libwxbase3.0-0v5 libwxgtk3.0-0v5 libxml-libxml-perl\n",
            "  libxml-namespacesupport-perl libxml-parser-perl libxml-sax-base-perl\n",
            "  libxml-sax-expat-perl libxml-sax-perl libzip4 netbase notification-daemon\n",
            "  octave-common octave-doc perl-openssl-defaults poppler-data pstoedit\n",
            "  tex-common texinfo\n",
            "Suggested packages:\n",
            "  fonts-noto ghostscript-x gnuplot-doc texinfo-doc-nonfree libdigest-hmac-perl\n",
            "  libgssapi-perl libfftw3-bin libfftw3-dev libiodbc2-dev graphicsmagick-dbg\n",
            "  gvfs libcrypt-ssleay-perl libmagickcore-6.q16-3-extra libqscintilla2-doc\n",
            "  libwmf0.2-7-gtk libauthen-ntlm-perl liboctave-dev www-browser | pdf-viewer\n",
            "  poppler-utils fonts-japanese-mincho | fonts-ipafont-mincho\n",
            "  fonts-japanese-gothic | fonts-ipafont-gothic fonts-arphic-ukai\n",
            "  fonts-arphic-uming fonts-nanum xfig | ivtools-bin | tgif | transfig\n",
            "  debhelper texlive-base texlive-latex-base texlive-generic-recommended\n",
            "  texlive-fonts-recommended\n",
            "The following NEW packages will be installed:\n",
            "  aglfn epstool fonts-droid-fallback fonts-noto-mono ghostscript gnuplot-data\n",
            "  gnuplot-qt gsfonts imagemagick-6-common info install-info libamd2\n",
            "  libauthen-sasl-perl libcamd2 libccolamd2 libcholmod3 libcolamd2\n",
            "  libcupsfilters1 libcupsimage2 libcxsparse3 libdata-dump-perl libemf1\n",
            "  libencode-locale-perl libfftw3-single3 libfile-listing-perl libfltk-gl1.3\n",
            "  libfltk1.3 libfont-afm-perl libgail-common libgail18 libglpk40\n",
            "  libgraphicsmagick++-q16-12 libgraphicsmagick-q16-3 libgs9 libgs9-common\n",
            "  libgtk2.0-0 libgtk2.0-bin libgtk2.0-common libhtml-form-perl\n",
            "  libhtml-format-perl libhtml-parser-perl libhtml-tagset-perl\n",
            "  libhtml-tree-perl libhttp-cookies-perl libhttp-daemon-perl libhttp-date-perl\n",
            "  libhttp-message-perl libhttp-negotiate-perl libijs-0.35 libio-html-perl\n",
            "  libio-socket-ssl-perl libjbig2dec0 liblqr-1-0 liblua5.3-0\n",
            "  liblwp-mediatypes-perl liblwp-protocol-https-perl libmagick++-6.q16-7\n",
            "  libmagickcore-6.q16-3 libmagickwand-6.q16-3 libmailtools-perl libmetis5\n",
            "  libnet-http-perl libnet-smtp-ssl-perl libnet-ssleay-perl libnotify4\n",
            "  liboctave4 libosmesa6 libplot2c2 libportaudio2 libpstoedit0c2a libqrupdate1\n",
            "  libqscintilla2-qt5-13 libqscintilla2-qt5-l10n libqt5opengl5 libqt5svg5\n",
            "  libsuitesparseconfig5 libtext-unidecode-perl libtimedate-perl\n",
            "  libtry-tiny-perl libumfpack5 liburi-perl libwmf0.2-7 libwww-perl\n",
            "  libwww-robotrules-perl libwxbase3.0-0v5 libwxgtk3.0-0v5 libxml-libxml-perl\n",
            "  libxml-namespacesupport-perl libxml-parser-perl libxml-sax-base-perl\n",
            "  libxml-sax-expat-perl libxml-sax-perl libzip4 netbase notification-daemon\n",
            "  octave octave-common octave-doc perl-openssl-defaults poppler-data pstoedit\n",
            "  tex-common texinfo\n",
            "0 upgraded, 103 newly installed, 0 to remove and 20 not upgraded.\n",
            "Need to get 53.6 MB of archives.\n",
            "After this operation, 210 MB of additional disk space will be used.\n",
            "Get:1 http://archive.ubuntu.com/ubuntu bionic/main amd64 install-info amd64 6.5.0.dfsg.1-2 [55.4 kB]\n",
            "Get:2 http://archive.ubuntu.com/ubuntu bionic/main amd64 fonts-droid-fallback all 1:6.0.1r16-1.1 [1,805 kB]\n",
            "Get:3 http://archive.ubuntu.com/ubuntu bionic/main amd64 liblqr-1-0 amd64 0.4.2-2.1 [27.7 kB]\n",
            "Get:4 http://archive.ubuntu.com/ubuntu bionic-updates/main amd64 imagemagick-6-common all 8:6.9.7.4+dfsg-16ubuntu6.14 [60.5 kB]\n",
            "Get:5 http://archive.ubuntu.com/ubuntu bionic-updates/main amd64 libmagickcore-6.q16-3 amd64 8:6.9.7.4+dfsg-16ubuntu6.14 [1,622 kB]\n",
            "Get:6 http://archive.ubuntu.com/ubuntu bionic-updates/main amd64 libmagickwand-6.q16-3 amd64 8:6.9.7.4+dfsg-16ubuntu6.14 [294 kB]\n",
            "Get:7 http://archive.ubuntu.com/ubuntu bionic-updates/main amd64 libqt5svg5 amd64 5.9.5-0ubuntu1.1 [129 kB]\n",
            "Get:8 http://archive.ubuntu.com/ubuntu bionic/main amd64 poppler-data all 0.4.8-2 [1,479 kB]\n",
            "Get:9 http://archive.ubuntu.com/ubuntu bionic/main amd64 tex-common all 6.09 [33.0 kB]\n",
            "Get:10 http://archive.ubuntu.com/ubuntu bionic/main amd64 netbase all 5.4 [12.7 kB]\n",
            "Get:11 http://archive.ubuntu.com/ubuntu bionic/main amd64 info amd64 6.5.0.dfsg.1-2 [104 kB]\n",
            "Get:12 http://archive.ubuntu.com/ubuntu bionic-updates/main amd64 libcupsimage2 amd64 2.2.7-1ubuntu2.9 [18.6 kB]\n",
            "Get:13 http://archive.ubuntu.com/ubuntu bionic/main amd64 libijs-0.35 amd64 0.35-13 [15.5 kB]\n",
            "Get:14 http://archive.ubuntu.com/ubuntu bionic/main amd64 libjbig2dec0 amd64 0.13-6 [55.9 kB]\n",
            "Get:15 http://archive.ubuntu.com/ubuntu bionic-updates/main amd64 libgs9-common all 9.26~dfsg+0-0ubuntu0.18.04.17 [5,092 kB]\n",
            "Get:16 http://archive.ubuntu.com/ubuntu bionic-updates/main amd64 libgs9 amd64 9.26~dfsg+0-0ubuntu0.18.04.17 [2,267 kB]\n",
            "Get:17 http://archive.ubuntu.com/ubuntu bionic-updates/main amd64 ghostscript amd64 9.26~dfsg+0-0ubuntu0.18.04.17 [51.3 kB]\n",
            "Get:18 http://archive.ubuntu.com/ubuntu bionic/universe amd64 epstool amd64 3.08+repack-7 [108 kB]\n",
            "Get:19 http://archive.ubuntu.com/ubuntu bionic/main amd64 fonts-noto-mono all 20171026-2 [75.5 kB]\n",
            "Get:20 http://archive.ubuntu.com/ubuntu bionic/universe amd64 aglfn all 1.7-3 [29.4 kB]\n",
            "Get:21 http://archive.ubuntu.com/ubuntu bionic/universe amd64 gnuplot-data all 5.2.2+dfsg1-2ubuntu1 [56.7 kB]\n",
            "Get:22 http://archive.ubuntu.com/ubuntu bionic-updates/main amd64 liblua5.3-0 amd64 5.3.3-1ubuntu0.18.04.1 [115 kB]\n",
            "Get:23 http://archive.ubuntu.com/ubuntu bionic/universe amd64 libwxbase3.0-0v5 amd64 3.0.4+dfsg-3 [954 kB]\n",
            "Get:24 http://archive.ubuntu.com/ubuntu bionic/main amd64 libgtk2.0-common all 2.24.32-1ubuntu1 [125 kB]\n",
            "Get:25 http://archive.ubuntu.com/ubuntu bionic/main amd64 libgtk2.0-0 amd64 2.24.32-1ubuntu1 [1,769 kB]\n",
            "Get:26 http://archive.ubuntu.com/ubuntu bionic-updates/main amd64 libnotify4 amd64 0.7.7-3ubuntu0.18.04.1 [18.7 kB]\n",
            "Get:27 http://archive.ubuntu.com/ubuntu bionic/universe amd64 libwxgtk3.0-0v5 amd64 3.0.4+dfsg-3 [4,182 kB]\n",
            "Get:28 http://archive.ubuntu.com/ubuntu bionic/universe amd64 gnuplot-qt amd64 5.2.2+dfsg1-2ubuntu1 [1,013 kB]\n",
            "Get:29 http://archive.ubuntu.com/ubuntu bionic/main amd64 gsfonts all 1:8.11+urwcyr1.0.7~pre44-4.4 [3,120 kB]\n",
            "Get:30 http://archive.ubuntu.com/ubuntu bionic/main amd64 libsuitesparseconfig5 amd64 1:5.1.2-2 [9,044 B]\n",
            "Get:31 http://archive.ubuntu.com/ubuntu bionic/main amd64 libamd2 amd64 1:5.1.2-2 [19.5 kB]\n",
            "Get:32 http://archive.ubuntu.com/ubuntu bionic/main amd64 libcamd2 amd64 1:5.1.2-2 [20.9 kB]\n",
            "Get:33 http://archive.ubuntu.com/ubuntu bionic/main amd64 libccolamd2 amd64 1:5.1.2-2 [21.7 kB]\n",
            "Get:34 http://archive.ubuntu.com/ubuntu bionic/main amd64 libcolamd2 amd64 1:5.1.2-2 [16.2 kB]\n",
            "Get:35 http://archive.ubuntu.com/ubuntu bionic/main amd64 libmetis5 amd64 5.1.0.dfsg-5 [169 kB]\n",
            "Get:36 http://archive.ubuntu.com/ubuntu bionic/main amd64 libcholmod3 amd64 1:5.1.2-2 [300 kB]\n",
            "Get:37 http://archive.ubuntu.com/ubuntu bionic-updates/main amd64 libcupsfilters1 amd64 1.20.2-0ubuntu3.1 [108 kB]\n",
            "Get:38 http://archive.ubuntu.com/ubuntu bionic/main amd64 libcxsparse3 amd64 1:5.1.2-2 [63.9 kB]\n",
            "Get:39 http://archive.ubuntu.com/ubuntu bionic/main amd64 libdata-dump-perl all 1.23-1 [27.0 kB]\n",
            "Get:40 http://archive.ubuntu.com/ubuntu bionic/universe amd64 libemf1 amd64 1.0.9+git.10.3231442-1 [54.7 kB]\n",
            "Get:41 http://archive.ubuntu.com/ubuntu bionic/main amd64 libencode-locale-perl all 1.05-1 [12.3 kB]\n",
            "Get:42 http://archive.ubuntu.com/ubuntu bionic/main amd64 libfftw3-single3 amd64 3.3.7-1 [764 kB]\n",
            "Get:43 http://archive.ubuntu.com/ubuntu bionic/main amd64 libtimedate-perl all 2.3000-2 [37.5 kB]\n",
            "Get:44 http://archive.ubuntu.com/ubuntu bionic/main amd64 libhttp-date-perl all 6.02-1 [10.4 kB]\n",
            "Get:45 http://archive.ubuntu.com/ubuntu bionic/main amd64 libfile-listing-perl all 6.04-1 [9,774 B]\n",
            "Get:46 http://archive.ubuntu.com/ubuntu bionic/universe amd64 libfltk1.3 amd64 1.3.4-6 [523 kB]\n",
            "Get:47 http://archive.ubuntu.com/ubuntu bionic/universe amd64 libfltk-gl1.3 amd64 1.3.4-6 [37.7 kB]\n",
            "Get:48 http://archive.ubuntu.com/ubuntu bionic/main amd64 libfont-afm-perl all 1.20-2 [13.2 kB]\n",
            "Get:49 http://archive.ubuntu.com/ubuntu bionic/main amd64 libgail18 amd64 2.24.32-1ubuntu1 [14.2 kB]\n",
            "Get:50 http://archive.ubuntu.com/ubuntu bionic/main amd64 libgail-common amd64 2.24.32-1ubuntu1 [112 kB]\n",
            "Get:51 http://archive.ubuntu.com/ubuntu bionic/universe amd64 libglpk40 amd64 4.65-1 [378 kB]\n",
            "Get:52 http://archive.ubuntu.com/ubuntu bionic/main amd64 libwmf0.2-7 amd64 0.2.8.4-12 [150 kB]\n",
            "Get:53 http://archive.ubuntu.com/ubuntu bionic-updates/universe amd64 libgraphicsmagick-q16-3 amd64 1.3.28-2ubuntu0.1 [1,116 kB]\n",
            "Get:54 http://archive.ubuntu.com/ubuntu bionic-updates/universe amd64 libgraphicsmagick++-q16-12 amd64 1.3.28-2ubuntu0.1 [102 kB]\n",
            "Get:55 http://archive.ubuntu.com/ubuntu bionic/main amd64 libgtk2.0-bin amd64 2.24.32-1ubuntu1 [7,536 B]\n",
            "Get:56 http://archive.ubuntu.com/ubuntu bionic/main amd64 libhtml-tagset-perl all 3.20-3 [12.1 kB]\n",
            "Get:57 http://archive.ubuntu.com/ubuntu bionic/main amd64 liburi-perl all 1.73-1 [77.2 kB]\n",
            "Get:58 http://archive.ubuntu.com/ubuntu bionic/main amd64 libhtml-parser-perl amd64 3.72-3build1 [85.9 kB]\n",
            "Get:59 http://archive.ubuntu.com/ubuntu bionic/main amd64 libio-html-perl all 1.001-1 [14.9 kB]\n",
            "Get:60 http://archive.ubuntu.com/ubuntu bionic/main amd64 liblwp-mediatypes-perl all 6.02-1 [21.7 kB]\n",
            "Get:61 http://archive.ubuntu.com/ubuntu bionic/main amd64 libhttp-message-perl all 6.14-1 [72.1 kB]\n",
            "Get:62 http://archive.ubuntu.com/ubuntu bionic/main amd64 libhtml-form-perl all 6.03-1 [23.5 kB]\n",
            "Get:63 http://archive.ubuntu.com/ubuntu bionic/main amd64 libhtml-tree-perl all 5.07-1 [200 kB]\n",
            "Get:64 http://archive.ubuntu.com/ubuntu bionic/main amd64 libhtml-format-perl all 2.12-1 [41.3 kB]\n",
            "Get:65 http://archive.ubuntu.com/ubuntu bionic/main amd64 libhttp-cookies-perl all 6.04-1 [17.2 kB]\n",
            "Get:66 http://archive.ubuntu.com/ubuntu bionic-updates/main amd64 libhttp-daemon-perl all 6.01-1ubuntu0.1 [15.9 kB]\n",
            "Get:67 http://archive.ubuntu.com/ubuntu bionic/main amd64 libhttp-negotiate-perl all 6.00-2 [13.4 kB]\n",
            "Get:68 http://archive.ubuntu.com/ubuntu bionic/main amd64 perl-openssl-defaults amd64 3build1 [7,012 B]\n",
            "Get:69 http://archive.ubuntu.com/ubuntu bionic-updates/main amd64 libnet-ssleay-perl amd64 1.84-1ubuntu0.2 [283 kB]\n",
            "Get:70 http://archive.ubuntu.com/ubuntu bionic-updates/main amd64 libio-socket-ssl-perl all 2.060-3~ubuntu18.04.1 [173 kB]\n",
            "Get:71 http://archive.ubuntu.com/ubuntu bionic/main amd64 libnet-http-perl all 6.17-1 [22.7 kB]\n",
            "Get:72 http://archive.ubuntu.com/ubuntu bionic/main amd64 libtry-tiny-perl all 0.30-1 [20.5 kB]\n",
            "Get:73 http://archive.ubuntu.com/ubuntu bionic/main amd64 libwww-robotrules-perl all 6.01-1 [14.1 kB]\n",
            "Get:74 http://archive.ubuntu.com/ubuntu bionic-updates/main amd64 libwww-perl all 6.31-1ubuntu0.1 [137 kB]\n",
            "Get:75 http://archive.ubuntu.com/ubuntu bionic/main amd64 liblwp-protocol-https-perl all 6.07-2 [8,284 B]\n",
            "Get:76 http://archive.ubuntu.com/ubuntu bionic-updates/main amd64 libmagick++-6.q16-7 amd64 8:6.9.7.4+dfsg-16ubuntu6.14 [139 kB]\n",
            "Get:77 http://archive.ubuntu.com/ubuntu bionic/main amd64 libnet-smtp-ssl-perl all 1.04-1 [5,948 B]\n",
            "Get:78 http://archive.ubuntu.com/ubuntu bionic/main amd64 libmailtools-perl all 2.18-1 [74.0 kB]\n",
            "Get:79 http://archive.ubuntu.com/ubuntu bionic/universe amd64 libqrupdate1 amd64 1.1.2-2build1 [36.5 kB]\n",
            "Get:80 http://archive.ubuntu.com/ubuntu bionic/main amd64 libumfpack5 amd64 1:5.1.2-2 [229 kB]\n",
            "Get:81 http://archive.ubuntu.com/ubuntu bionic/universe amd64 liboctave4 amd64 4.2.2-1ubuntu1 [6,736 kB]\n",
            "Get:82 http://archive.ubuntu.com/ubuntu bionic/universe amd64 libplot2c2 amd64 2.6-9 [502 kB]\n",
            "Get:83 http://archive.ubuntu.com/ubuntu bionic/universe amd64 libportaudio2 amd64 19.6.0-1 [64.6 kB]\n",
            "Get:84 http://archive.ubuntu.com/ubuntu bionic/universe amd64 libzip4 amd64 1.1.2-1.1 [37.8 kB]\n",
            "Get:85 http://archive.ubuntu.com/ubuntu bionic/universe amd64 libpstoedit0c2a amd64 3.70-5 [349 kB]\n",
            "Get:86 http://archive.ubuntu.com/ubuntu bionic/universe amd64 libqscintilla2-qt5-l10n all 2.10.2+dfsg-4 [39.7 kB]\n",
            "Get:87 http://archive.ubuntu.com/ubuntu bionic/universe amd64 libqscintilla2-qt5-13 amd64 2.10.2+dfsg-4 [1,030 kB]\n",
            "Get:88 http://archive.ubuntu.com/ubuntu bionic-updates/main amd64 libqt5opengl5 amd64 5.9.5+dfsg-0ubuntu2.6 [132 kB]\n",
            "Get:89 http://archive.ubuntu.com/ubuntu bionic/universe amd64 libtext-unidecode-perl all 1.30-1 [99.0 kB]\n",
            "Get:90 http://archive.ubuntu.com/ubuntu bionic/main amd64 libxml-namespacesupport-perl all 1.12-1 [13.2 kB]\n",
            "Get:91 http://archive.ubuntu.com/ubuntu bionic/main amd64 libxml-sax-base-perl all 1.09-1 [18.8 kB]\n",
            "Get:92 http://archive.ubuntu.com/ubuntu bionic/main amd64 libxml-sax-perl all 0.99+dfsg-2ubuntu1 [64.6 kB]\n",
            "Get:93 http://archive.ubuntu.com/ubuntu bionic/main amd64 libxml-libxml-perl amd64 2.0128+dfsg-5 [316 kB]\n",
            "Get:94 http://archive.ubuntu.com/ubuntu bionic/main amd64 libxml-parser-perl amd64 2.44-2build3 [199 kB]\n",
            "Get:95 http://archive.ubuntu.com/ubuntu bionic/main amd64 libxml-sax-expat-perl all 0.40-2 [11.5 kB]\n",
            "Get:96 http://archive.ubuntu.com/ubuntu bionic/main amd64 notification-daemon amd64 3.20.0-3 [36.9 kB]\n",
            "Get:97 http://archive.ubuntu.com/ubuntu bionic/universe amd64 pstoedit amd64 3.70-5 [102 kB]\n",
            "Get:98 http://archive.ubuntu.com/ubuntu bionic/universe amd64 texinfo amd64 6.5.0.dfsg.1-2 [752 kB]\n",
            "Get:99 http://archive.ubuntu.com/ubuntu bionic/main amd64 libauthen-sasl-perl all 2.1600-1 [48.7 kB]\n",
            "Get:100 http://archive.ubuntu.com/ubuntu bionic-updates/main amd64 libosmesa6 amd64 20.0.8-0ubuntu1~18.04.1 [2,641 kB]\n",
            "Get:101 http://archive.ubuntu.com/ubuntu bionic/universe amd64 octave-common all 4.2.2-1ubuntu1 [1,444 kB]\n",
            "Get:102 http://archive.ubuntu.com/ubuntu bionic/universe amd64 octave amd64 4.2.2-1ubuntu1 [1,583 kB]\n",
            "Get:103 http://archive.ubuntu.com/ubuntu bionic/universe amd64 octave-doc all 4.2.2-1ubuntu1 [6,836 kB]\n",
            "Fetched 53.6 MB in 1s (43.1 MB/s)\n",
            "Extracting templates from packages: 100%\n",
            "Selecting previously unselected package install-info.\n",
            "(Reading database ... 124016 files and directories currently installed.)\n",
            "Preparing to unpack .../install-info_6.5.0.dfsg.1-2_amd64.deb ...\n",
            "Unpacking install-info (6.5.0.dfsg.1-2) ...\n",
            "Setting up install-info (6.5.0.dfsg.1-2) ...\n",
            "Selecting previously unselected package fonts-droid-fallback.\n",
            "(Reading database ... 124029 files and directories currently installed.)\n",
            "Preparing to unpack .../000-fonts-droid-fallback_1%3a6.0.1r16-1.1_all.deb ...\n",
            "Unpacking fonts-droid-fallback (1:6.0.1r16-1.1) ...\n",
            "Selecting previously unselected package liblqr-1-0:amd64.\n",
            "Preparing to unpack .../001-liblqr-1-0_0.4.2-2.1_amd64.deb ...\n",
            "Unpacking liblqr-1-0:amd64 (0.4.2-2.1) ...\n",
            "Selecting previously unselected package imagemagick-6-common.\n",
            "Preparing to unpack .../002-imagemagick-6-common_8%3a6.9.7.4+dfsg-16ubuntu6.14_all.deb ...\n",
            "Unpacking imagemagick-6-common (8:6.9.7.4+dfsg-16ubuntu6.14) ...\n",
            "Selecting previously unselected package libmagickcore-6.q16-3:amd64.\n",
            "Preparing to unpack .../003-libmagickcore-6.q16-3_8%3a6.9.7.4+dfsg-16ubuntu6.14_amd64.deb ...\n",
            "Unpacking libmagickcore-6.q16-3:amd64 (8:6.9.7.4+dfsg-16ubuntu6.14) ...\n",
            "Selecting previously unselected package libmagickwand-6.q16-3:amd64.\n",
            "Preparing to unpack .../004-libmagickwand-6.q16-3_8%3a6.9.7.4+dfsg-16ubuntu6.14_amd64.deb ...\n",
            "Unpacking libmagickwand-6.q16-3:amd64 (8:6.9.7.4+dfsg-16ubuntu6.14) ...\n",
            "Selecting previously unselected package libqt5svg5:amd64.\n",
            "Preparing to unpack .../005-libqt5svg5_5.9.5-0ubuntu1.1_amd64.deb ...\n",
            "Unpacking libqt5svg5:amd64 (5.9.5-0ubuntu1.1) ...\n",
            "Selecting previously unselected package poppler-data.\n",
            "Preparing to unpack .../006-poppler-data_0.4.8-2_all.deb ...\n",
            "Unpacking poppler-data (0.4.8-2) ...\n",
            "Selecting previously unselected package tex-common.\n",
            "Preparing to unpack .../007-tex-common_6.09_all.deb ...\n",
            "Unpacking tex-common (6.09) ...\n",
            "Selecting previously unselected package netbase.\n",
            "Preparing to unpack .../008-netbase_5.4_all.deb ...\n",
            "Unpacking netbase (5.4) ...\n",
            "Selecting previously unselected package info.\n",
            "Preparing to unpack .../009-info_6.5.0.dfsg.1-2_amd64.deb ...\n",
            "Unpacking info (6.5.0.dfsg.1-2) ...\n",
            "Selecting previously unselected package libcupsimage2:amd64.\n",
            "Preparing to unpack .../010-libcupsimage2_2.2.7-1ubuntu2.9_amd64.deb ...\n",
            "Unpacking libcupsimage2:amd64 (2.2.7-1ubuntu2.9) ...\n",
            "Selecting previously unselected package libijs-0.35:amd64.\n",
            "Preparing to unpack .../011-libijs-0.35_0.35-13_amd64.deb ...\n",
            "Unpacking libijs-0.35:amd64 (0.35-13) ...\n",
            "Selecting previously unselected package libjbig2dec0:amd64.\n",
            "Preparing to unpack .../012-libjbig2dec0_0.13-6_amd64.deb ...\n",
            "Unpacking libjbig2dec0:amd64 (0.13-6) ...\n",
            "Selecting previously unselected package libgs9-common.\n",
            "Preparing to unpack .../013-libgs9-common_9.26~dfsg+0-0ubuntu0.18.04.17_all.deb ...\n",
            "Unpacking libgs9-common (9.26~dfsg+0-0ubuntu0.18.04.17) ...\n",
            "Selecting previously unselected package libgs9:amd64.\n",
            "Preparing to unpack .../014-libgs9_9.26~dfsg+0-0ubuntu0.18.04.17_amd64.deb ...\n",
            "Unpacking libgs9:amd64 (9.26~dfsg+0-0ubuntu0.18.04.17) ...\n",
            "Selecting previously unselected package ghostscript.\n",
            "Preparing to unpack .../015-ghostscript_9.26~dfsg+0-0ubuntu0.18.04.17_amd64.deb ...\n",
            "Unpacking ghostscript (9.26~dfsg+0-0ubuntu0.18.04.17) ...\n",
            "Selecting previously unselected package epstool.\n",
            "Preparing to unpack .../016-epstool_3.08+repack-7_amd64.deb ...\n",
            "Unpacking epstool (3.08+repack-7) ...\n",
            "Selecting previously unselected package fonts-noto-mono.\n",
            "Preparing to unpack .../017-fonts-noto-mono_20171026-2_all.deb ...\n",
            "Unpacking fonts-noto-mono (20171026-2) ...\n",
            "Selecting previously unselected package aglfn.\n",
            "Preparing to unpack .../018-aglfn_1.7-3_all.deb ...\n",
            "Unpacking aglfn (1.7-3) ...\n",
            "Selecting previously unselected package gnuplot-data.\n",
            "Preparing to unpack .../019-gnuplot-data_5.2.2+dfsg1-2ubuntu1_all.deb ...\n",
            "Unpacking gnuplot-data (5.2.2+dfsg1-2ubuntu1) ...\n",
            "Selecting previously unselected package liblua5.3-0:amd64.\n",
            "Preparing to unpack .../020-liblua5.3-0_5.3.3-1ubuntu0.18.04.1_amd64.deb ...\n",
            "Unpacking liblua5.3-0:amd64 (5.3.3-1ubuntu0.18.04.1) ...\n",
            "Selecting previously unselected package libwxbase3.0-0v5:amd64.\n",
            "Preparing to unpack .../021-libwxbase3.0-0v5_3.0.4+dfsg-3_amd64.deb ...\n",
            "Unpacking libwxbase3.0-0v5:amd64 (3.0.4+dfsg-3) ...\n",
            "Selecting previously unselected package libgtk2.0-common.\n",
            "Preparing to unpack .../022-libgtk2.0-common_2.24.32-1ubuntu1_all.deb ...\n",
            "Unpacking libgtk2.0-common (2.24.32-1ubuntu1) ...\n",
            "Selecting previously unselected package libgtk2.0-0:amd64.\n",
            "Preparing to unpack .../023-libgtk2.0-0_2.24.32-1ubuntu1_amd64.deb ...\n",
            "Unpacking libgtk2.0-0:amd64 (2.24.32-1ubuntu1) ...\n",
            "Selecting previously unselected package libnotify4:amd64.\n",
            "Preparing to unpack .../024-libnotify4_0.7.7-3ubuntu0.18.04.1_amd64.deb ...\n",
            "Unpacking libnotify4:amd64 (0.7.7-3ubuntu0.18.04.1) ...\n",
            "Selecting previously unselected package libwxgtk3.0-0v5:amd64.\n",
            "Preparing to unpack .../025-libwxgtk3.0-0v5_3.0.4+dfsg-3_amd64.deb ...\n",
            "Unpacking libwxgtk3.0-0v5:amd64 (3.0.4+dfsg-3) ...\n",
            "Selecting previously unselected package gnuplot-qt.\n",
            "Preparing to unpack .../026-gnuplot-qt_5.2.2+dfsg1-2ubuntu1_amd64.deb ...\n",
            "Unpacking gnuplot-qt (5.2.2+dfsg1-2ubuntu1) ...\n",
            "Selecting previously unselected package gsfonts.\n",
            "Preparing to unpack .../027-gsfonts_1%3a8.11+urwcyr1.0.7~pre44-4.4_all.deb ...\n",
            "Unpacking gsfonts (1:8.11+urwcyr1.0.7~pre44-4.4) ...\n",
            "Selecting previously unselected package libsuitesparseconfig5:amd64.\n",
            "Preparing to unpack .../028-libsuitesparseconfig5_1%3a5.1.2-2_amd64.deb ...\n",
            "Unpacking libsuitesparseconfig5:amd64 (1:5.1.2-2) ...\n",
            "Selecting previously unselected package libamd2:amd64.\n",
            "Preparing to unpack .../029-libamd2_1%3a5.1.2-2_amd64.deb ...\n",
            "Unpacking libamd2:amd64 (1:5.1.2-2) ...\n",
            "Selecting previously unselected package libcamd2:amd64.\n",
            "Preparing to unpack .../030-libcamd2_1%3a5.1.2-2_amd64.deb ...\n",
            "Unpacking libcamd2:amd64 (1:5.1.2-2) ...\n",
            "Selecting previously unselected package libccolamd2:amd64.\n",
            "Preparing to unpack .../031-libccolamd2_1%3a5.1.2-2_amd64.deb ...\n",
            "Unpacking libccolamd2:amd64 (1:5.1.2-2) ...\n",
            "Selecting previously unselected package libcolamd2:amd64.\n",
            "Preparing to unpack .../032-libcolamd2_1%3a5.1.2-2_amd64.deb ...\n",
            "Unpacking libcolamd2:amd64 (1:5.1.2-2) ...\n",
            "Selecting previously unselected package libmetis5:amd64.\n",
            "Preparing to unpack .../033-libmetis5_5.1.0.dfsg-5_amd64.deb ...\n",
            "Unpacking libmetis5:amd64 (5.1.0.dfsg-5) ...\n",
            "Selecting previously unselected package libcholmod3:amd64.\n",
            "Preparing to unpack .../034-libcholmod3_1%3a5.1.2-2_amd64.deb ...\n",
            "Unpacking libcholmod3:amd64 (1:5.1.2-2) ...\n",
            "Selecting previously unselected package libcupsfilters1:amd64.\n",
            "Preparing to unpack .../035-libcupsfilters1_1.20.2-0ubuntu3.1_amd64.deb ...\n",
            "Unpacking libcupsfilters1:amd64 (1.20.2-0ubuntu3.1) ...\n",
            "Selecting previously unselected package libcxsparse3:amd64.\n",
            "Preparing to unpack .../036-libcxsparse3_1%3a5.1.2-2_amd64.deb ...\n",
            "Unpacking libcxsparse3:amd64 (1:5.1.2-2) ...\n",
            "Selecting previously unselected package libdata-dump-perl.\n",
            "Preparing to unpack .../037-libdata-dump-perl_1.23-1_all.deb ...\n",
            "Unpacking libdata-dump-perl (1.23-1) ...\n",
            "Selecting previously unselected package libemf1:amd64.\n",
            "Preparing to unpack .../038-libemf1_1.0.9+git.10.3231442-1_amd64.deb ...\n",
            "Unpacking libemf1:amd64 (1.0.9+git.10.3231442-1) ...\n",
            "Selecting previously unselected package libencode-locale-perl.\n",
            "Preparing to unpack .../039-libencode-locale-perl_1.05-1_all.deb ...\n",
            "Unpacking libencode-locale-perl (1.05-1) ...\n",
            "Selecting previously unselected package libfftw3-single3:amd64.\n",
            "Preparing to unpack .../040-libfftw3-single3_3.3.7-1_amd64.deb ...\n",
            "Unpacking libfftw3-single3:amd64 (3.3.7-1) ...\n",
            "Selecting previously unselected package libtimedate-perl.\n",
            "Preparing to unpack .../041-libtimedate-perl_2.3000-2_all.deb ...\n",
            "Unpacking libtimedate-perl (2.3000-2) ...\n",
            "Selecting previously unselected package libhttp-date-perl.\n",
            "Preparing to unpack .../042-libhttp-date-perl_6.02-1_all.deb ...\n",
            "Unpacking libhttp-date-perl (6.02-1) ...\n",
            "Selecting previously unselected package libfile-listing-perl.\n",
            "Preparing to unpack .../043-libfile-listing-perl_6.04-1_all.deb ...\n",
            "Unpacking libfile-listing-perl (6.04-1) ...\n",
            "Selecting previously unselected package libfltk1.3:amd64.\n",
            "Preparing to unpack .../044-libfltk1.3_1.3.4-6_amd64.deb ...\n",
            "Unpacking libfltk1.3:amd64 (1.3.4-6) ...\n",
            "Selecting previously unselected package libfltk-gl1.3:amd64.\n",
            "Preparing to unpack .../045-libfltk-gl1.3_1.3.4-6_amd64.deb ...\n",
            "Unpacking libfltk-gl1.3:amd64 (1.3.4-6) ...\n",
            "Selecting previously unselected package libfont-afm-perl.\n",
            "Preparing to unpack .../046-libfont-afm-perl_1.20-2_all.deb ...\n",
            "Unpacking libfont-afm-perl (1.20-2) ...\n",
            "Selecting previously unselected package libgail18:amd64.\n",
            "Preparing to unpack .../047-libgail18_2.24.32-1ubuntu1_amd64.deb ...\n",
            "Unpacking libgail18:amd64 (2.24.32-1ubuntu1) ...\n",
            "Selecting previously unselected package libgail-common:amd64.\n",
            "Preparing to unpack .../048-libgail-common_2.24.32-1ubuntu1_amd64.deb ...\n",
            "Unpacking libgail-common:amd64 (2.24.32-1ubuntu1) ...\n",
            "Selecting previously unselected package libglpk40:amd64.\n",
            "Preparing to unpack .../049-libglpk40_4.65-1_amd64.deb ...\n",
            "Unpacking libglpk40:amd64 (4.65-1) ...\n",
            "Selecting previously unselected package libwmf0.2-7:amd64.\n",
            "Preparing to unpack .../050-libwmf0.2-7_0.2.8.4-12_amd64.deb ...\n",
            "Unpacking libwmf0.2-7:amd64 (0.2.8.4-12) ...\n",
            "Selecting previously unselected package libgraphicsmagick-q16-3.\n",
            "Preparing to unpack .../051-libgraphicsmagick-q16-3_1.3.28-2ubuntu0.1_amd64.deb ...\n",
            "Unpacking libgraphicsmagick-q16-3 (1.3.28-2ubuntu0.1) ...\n",
            "Selecting previously unselected package libgraphicsmagick++-q16-12.\n",
            "Preparing to unpack .../052-libgraphicsmagick++-q16-12_1.3.28-2ubuntu0.1_amd64.deb ...\n",
            "Unpacking libgraphicsmagick++-q16-12 (1.3.28-2ubuntu0.1) ...\n",
            "Selecting previously unselected package libgtk2.0-bin.\n",
            "Preparing to unpack .../053-libgtk2.0-bin_2.24.32-1ubuntu1_amd64.deb ...\n",
            "Unpacking libgtk2.0-bin (2.24.32-1ubuntu1) ...\n",
            "Selecting previously unselected package libhtml-tagset-perl.\n",
            "Preparing to unpack .../054-libhtml-tagset-perl_3.20-3_all.deb ...\n",
            "Unpacking libhtml-tagset-perl (3.20-3) ...\n",
            "Selecting previously unselected package liburi-perl.\n",
            "Preparing to unpack .../055-liburi-perl_1.73-1_all.deb ...\n",
            "Unpacking liburi-perl (1.73-1) ...\n",
            "Selecting previously unselected package libhtml-parser-perl.\n",
            "Preparing to unpack .../056-libhtml-parser-perl_3.72-3build1_amd64.deb ...\n",
            "Unpacking libhtml-parser-perl (3.72-3build1) ...\n",
            "Selecting previously unselected package libio-html-perl.\n",
            "Preparing to unpack .../057-libio-html-perl_1.001-1_all.deb ...\n",
            "Unpacking libio-html-perl (1.001-1) ...\n",
            "Selecting previously unselected package liblwp-mediatypes-perl.\n",
            "Preparing to unpack .../058-liblwp-mediatypes-perl_6.02-1_all.deb ...\n",
            "Unpacking liblwp-mediatypes-perl (6.02-1) ...\n",
            "Selecting previously unselected package libhttp-message-perl.\n",
            "Preparing to unpack .../059-libhttp-message-perl_6.14-1_all.deb ...\n",
            "Unpacking libhttp-message-perl (6.14-1) ...\n",
            "Selecting previously unselected package libhtml-form-perl.\n",
            "Preparing to unpack .../060-libhtml-form-perl_6.03-1_all.deb ...\n",
            "Unpacking libhtml-form-perl (6.03-1) ...\n",
            "Selecting previously unselected package libhtml-tree-perl.\n",
            "Preparing to unpack .../061-libhtml-tree-perl_5.07-1_all.deb ...\n",
            "Unpacking libhtml-tree-perl (5.07-1) ...\n",
            "Selecting previously unselected package libhtml-format-perl.\n",
            "Preparing to unpack .../062-libhtml-format-perl_2.12-1_all.deb ...\n",
            "Unpacking libhtml-format-perl (2.12-1) ...\n",
            "Selecting previously unselected package libhttp-cookies-perl.\n",
            "Preparing to unpack .../063-libhttp-cookies-perl_6.04-1_all.deb ...\n",
            "Unpacking libhttp-cookies-perl (6.04-1) ...\n",
            "Selecting previously unselected package libhttp-daemon-perl.\n",
            "Preparing to unpack .../064-libhttp-daemon-perl_6.01-1ubuntu0.1_all.deb ...\n",
            "Unpacking libhttp-daemon-perl (6.01-1ubuntu0.1) ...\n",
            "Selecting previously unselected package libhttp-negotiate-perl.\n",
            "Preparing to unpack .../065-libhttp-negotiate-perl_6.00-2_all.deb ...\n",
            "Unpacking libhttp-negotiate-perl (6.00-2) ...\n",
            "Selecting previously unselected package perl-openssl-defaults:amd64.\n",
            "Preparing to unpack .../066-perl-openssl-defaults_3build1_amd64.deb ...\n",
            "Unpacking perl-openssl-defaults:amd64 (3build1) ...\n",
            "Selecting previously unselected package libnet-ssleay-perl.\n",
            "Preparing to unpack .../067-libnet-ssleay-perl_1.84-1ubuntu0.2_amd64.deb ...\n",
            "Unpacking libnet-ssleay-perl (1.84-1ubuntu0.2) ...\n",
            "Selecting previously unselected package libio-socket-ssl-perl.\n",
            "Preparing to unpack .../068-libio-socket-ssl-perl_2.060-3~ubuntu18.04.1_all.deb ...\n",
            "Unpacking libio-socket-ssl-perl (2.060-3~ubuntu18.04.1) ...\n",
            "Selecting previously unselected package libnet-http-perl.\n",
            "Preparing to unpack .../069-libnet-http-perl_6.17-1_all.deb ...\n",
            "Unpacking libnet-http-perl (6.17-1) ...\n",
            "Selecting previously unselected package libtry-tiny-perl.\n",
            "Preparing to unpack .../070-libtry-tiny-perl_0.30-1_all.deb ...\n",
            "Unpacking libtry-tiny-perl (0.30-1) ...\n",
            "Selecting previously unselected package libwww-robotrules-perl.\n",
            "Preparing to unpack .../071-libwww-robotrules-perl_6.01-1_all.deb ...\n",
            "Unpacking libwww-robotrules-perl (6.01-1) ...\n",
            "Selecting previously unselected package libwww-perl.\n",
            "Preparing to unpack .../072-libwww-perl_6.31-1ubuntu0.1_all.deb ...\n",
            "Unpacking libwww-perl (6.31-1ubuntu0.1) ...\n",
            "Selecting previously unselected package liblwp-protocol-https-perl.\n",
            "Preparing to unpack .../073-liblwp-protocol-https-perl_6.07-2_all.deb ...\n",
            "Unpacking liblwp-protocol-https-perl (6.07-2) ...\n",
            "Selecting previously unselected package libmagick++-6.q16-7:amd64.\n",
            "Preparing to unpack .../074-libmagick++-6.q16-7_8%3a6.9.7.4+dfsg-16ubuntu6.14_amd64.deb ...\n",
            "Unpacking libmagick++-6.q16-7:amd64 (8:6.9.7.4+dfsg-16ubuntu6.14) ...\n",
            "Selecting previously unselected package libnet-smtp-ssl-perl.\n",
            "Preparing to unpack .../075-libnet-smtp-ssl-perl_1.04-1_all.deb ...\n",
            "Unpacking libnet-smtp-ssl-perl (1.04-1) ...\n",
            "Selecting previously unselected package libmailtools-perl.\n",
            "Preparing to unpack .../076-libmailtools-perl_2.18-1_all.deb ...\n",
            "Unpacking libmailtools-perl (2.18-1) ...\n",
            "Selecting previously unselected package libqrupdate1:amd64.\n",
            "Preparing to unpack .../077-libqrupdate1_1.1.2-2build1_amd64.deb ...\n",
            "Unpacking libqrupdate1:amd64 (1.1.2-2build1) ...\n",
            "Selecting previously unselected package libumfpack5:amd64.\n",
            "Preparing to unpack .../078-libumfpack5_1%3a5.1.2-2_amd64.deb ...\n",
            "Unpacking libumfpack5:amd64 (1:5.1.2-2) ...\n",
            "Selecting previously unselected package liboctave4:amd64.\n",
            "Preparing to unpack .../079-liboctave4_4.2.2-1ubuntu1_amd64.deb ...\n",
            "Unpacking liboctave4:amd64 (4.2.2-1ubuntu1) ...\n",
            "Selecting previously unselected package libplot2c2:amd64.\n",
            "Preparing to unpack .../080-libplot2c2_2.6-9_amd64.deb ...\n",
            "Unpacking libplot2c2:amd64 (2.6-9) ...\n",
            "Selecting previously unselected package libportaudio2:amd64.\n",
            "Preparing to unpack .../081-libportaudio2_19.6.0-1_amd64.deb ...\n",
            "Unpacking libportaudio2:amd64 (19.6.0-1) ...\n",
            "Selecting previously unselected package libzip4:amd64.\n",
            "Preparing to unpack .../082-libzip4_1.1.2-1.1_amd64.deb ...\n",
            "Unpacking libzip4:amd64 (1.1.2-1.1) ...\n",
            "Selecting previously unselected package libpstoedit0c2a.\n",
            "Preparing to unpack .../083-libpstoedit0c2a_3.70-5_amd64.deb ...\n",
            "Unpacking libpstoedit0c2a (3.70-5) ...\n",
            "Selecting previously unselected package libqscintilla2-qt5-l10n.\n",
            "Preparing to unpack .../084-libqscintilla2-qt5-l10n_2.10.2+dfsg-4_all.deb ...\n",
            "Unpacking libqscintilla2-qt5-l10n (2.10.2+dfsg-4) ...\n",
            "Selecting previously unselected package libqscintilla2-qt5-13.\n",
            "Preparing to unpack .../085-libqscintilla2-qt5-13_2.10.2+dfsg-4_amd64.deb ...\n",
            "Unpacking libqscintilla2-qt5-13 (2.10.2+dfsg-4) ...\n",
            "Selecting previously unselected package libqt5opengl5:amd64.\n",
            "Preparing to unpack .../086-libqt5opengl5_5.9.5+dfsg-0ubuntu2.6_amd64.deb ...\n",
            "Unpacking libqt5opengl5:amd64 (5.9.5+dfsg-0ubuntu2.6) ...\n",
            "Selecting previously unselected package libtext-unidecode-perl.\n",
            "Preparing to unpack .../087-libtext-unidecode-perl_1.30-1_all.deb ...\n",
            "Unpacking libtext-unidecode-perl (1.30-1) ...\n",
            "Selecting previously unselected package libxml-namespacesupport-perl.\n",
            "Preparing to unpack .../088-libxml-namespacesupport-perl_1.12-1_all.deb ...\n",
            "Unpacking libxml-namespacesupport-perl (1.12-1) ...\n",
            "Selecting previously unselected package libxml-sax-base-perl.\n",
            "Preparing to unpack .../089-libxml-sax-base-perl_1.09-1_all.deb ...\n",
            "Unpacking libxml-sax-base-perl (1.09-1) ...\n",
            "Selecting previously unselected package libxml-sax-perl.\n",
            "Preparing to unpack .../090-libxml-sax-perl_0.99+dfsg-2ubuntu1_all.deb ...\n",
            "Unpacking libxml-sax-perl (0.99+dfsg-2ubuntu1) ...\n",
            "Selecting previously unselected package libxml-libxml-perl.\n",
            "Preparing to unpack .../091-libxml-libxml-perl_2.0128+dfsg-5_amd64.deb ...\n",
            "Unpacking libxml-libxml-perl (2.0128+dfsg-5) ...\n",
            "Selecting previously unselected package libxml-parser-perl.\n",
            "Preparing to unpack .../092-libxml-parser-perl_2.44-2build3_amd64.deb ...\n",
            "Unpacking libxml-parser-perl (2.44-2build3) ...\n",
            "Selecting previously unselected package libxml-sax-expat-perl.\n",
            "Preparing to unpack .../093-libxml-sax-expat-perl_0.40-2_all.deb ...\n",
            "Unpacking libxml-sax-expat-perl (0.40-2) ...\n",
            "Selecting previously unselected package notification-daemon.\n",
            "Preparing to unpack .../094-notification-daemon_3.20.0-3_amd64.deb ...\n",
            "Unpacking notification-daemon (3.20.0-3) ...\n",
            "Selecting previously unselected package pstoedit.\n",
            "Preparing to unpack .../095-pstoedit_3.70-5_amd64.deb ...\n",
            "Unpacking pstoedit (3.70-5) ...\n",
            "Selecting previously unselected package texinfo.\n",
            "Preparing to unpack .../096-texinfo_6.5.0.dfsg.1-2_amd64.deb ...\n",
            "Unpacking texinfo (6.5.0.dfsg.1-2) ...\n",
            "Selecting previously unselected package libauthen-sasl-perl.\n",
            "Preparing to unpack .../097-libauthen-sasl-perl_2.1600-1_all.deb ...\n",
            "Unpacking libauthen-sasl-perl (2.1600-1) ...\n",
            "Selecting previously unselected package libosmesa6:amd64.\n",
            "Preparing to unpack .../098-libosmesa6_20.0.8-0ubuntu1~18.04.1_amd64.deb ...\n",
            "Unpacking libosmesa6:amd64 (20.0.8-0ubuntu1~18.04.1) ...\n",
            "Selecting previously unselected package octave-common.\n",
            "Preparing to unpack .../099-octave-common_4.2.2-1ubuntu1_all.deb ...\n",
            "Unpacking octave-common (4.2.2-1ubuntu1) ...\n",
            "Selecting previously unselected package octave.\n",
            "Preparing to unpack .../100-octave_4.2.2-1ubuntu1_amd64.deb ...\n",
            "Unpacking octave (4.2.2-1ubuntu1) ...\n",
            "Selecting previously unselected package octave-doc.\n",
            "Preparing to unpack .../101-octave-doc_4.2.2-1ubuntu1_all.deb ...\n",
            "Unpacking octave-doc (4.2.2-1ubuntu1) ...\n",
            "Setting up libgs9-common (9.26~dfsg+0-0ubuntu0.18.04.17) ...\n",
            "Setting up libhtml-tagset-perl (3.20-3) ...\n",
            "Setting up imagemagick-6-common (8:6.9.7.4+dfsg-16ubuntu6.14) ...\n",
            "Setting up libnotify4:amd64 (0.7.7-3ubuntu0.18.04.1) ...\n",
            "Setting up libcxsparse3:amd64 (1:5.1.2-2) ...\n",
            "Setting up libtry-tiny-perl (0.30-1) ...\n",
            "Setting up fonts-droid-fallback (1:6.0.1r16-1.1) ...\n",
            "Setting up libfont-afm-perl (1.20-2) ...\n",
            "Setting up libgtk2.0-common (2.24.32-1ubuntu1) ...\n",
            "Setting up info (6.5.0.dfsg.1-2) ...\n",
            "update-alternatives: using /usr/bin/info to provide /usr/bin/infobrowser (infobrowser) in auto mode\n",
            "Setting up libportaudio2:amd64 (19.6.0-1) ...\n",
            "Setting up tex-common (6.09) ...\n",
            "update-language: texlive-base not installed and configured, doing nothing!\n",
            "Setting up libxml-namespacesupport-perl (1.12-1) ...\n",
            "Setting up gsfonts (1:8.11+urwcyr1.0.7~pre44-4.4) ...\n",
            "Setting up libencode-locale-perl (1.05-1) ...\n",
            "Setting up libtimedate-perl (2.3000-2) ...\n",
            "Setting up poppler-data (0.4.8-2) ...\n",
            "Setting up perl-openssl-defaults:amd64 (3build1) ...\n",
            "Setting up libosmesa6:amd64 (20.0.8-0ubuntu1~18.04.1) ...\n",
            "Setting up libio-html-perl (1.001-1) ...\n",
            "Setting up libtext-unidecode-perl (1.30-1) ...\n",
            "Setting up libqt5opengl5:amd64 (5.9.5+dfsg-0ubuntu2.6) ...\n",
            "Setting up fonts-noto-mono (20171026-2) ...\n",
            "Setting up libwxbase3.0-0v5:amd64 (3.0.4+dfsg-3) ...\n",
            "Setting up libqrupdate1:amd64 (1.1.2-2build1) ...\n",
            "Setting up libcupsfilters1:amd64 (1.20.2-0ubuntu3.1) ...\n",
            "Setting up libzip4:amd64 (1.1.2-1.1) ...\n",
            "Setting up libcupsimage2:amd64 (2.2.7-1ubuntu2.9) ...\n",
            "Setting up libxml-sax-base-perl (1.09-1) ...\n",
            "Setting up liblqr-1-0:amd64 (0.4.2-2.1) ...\n",
            "Setting up libjbig2dec0:amd64 (0.13-6) ...\n",
            "Setting up liblwp-mediatypes-perl (6.02-1) ...\n",
            "Setting up liburi-perl (1.73-1) ...\n",
            "Setting up libqt5svg5:amd64 (5.9.5-0ubuntu1.1) ...\n",
            "Setting up libsuitesparseconfig5:amd64 (1:5.1.2-2) ...\n",
            "Setting up libmetis5:amd64 (5.1.0.dfsg-5) ...\n",
            "Setting up libdata-dump-perl (1.23-1) ...\n",
            "Setting up libhtml-parser-perl (3.72-3build1) ...\n",
            "Setting up libijs-0.35:amd64 (0.35-13) ...\n",
            "Setting up libcolamd2:amd64 (1:5.1.2-2) ...\n",
            "Setting up libfltk1.3:amd64 (1.3.4-6) ...\n",
            "Setting up libccolamd2:amd64 (1:5.1.2-2) ...\n",
            "Setting up libfftw3-single3:amd64 (3.3.7-1) ...\n",
            "Setting up octave-common (4.2.2-1ubuntu1) ...\n",
            "Setting up libnet-http-perl (6.17-1) ...\n",
            "Setting up libqscintilla2-qt5-l10n (2.10.2+dfsg-4) ...\n",
            "Setting up libemf1:amd64 (1.0.9+git.10.3231442-1) ...\n",
            "Setting up aglfn (1.7-3) ...\n",
            "Setting up libplot2c2:amd64 (2.6-9) ...\n",
            "Setting up liblua5.3-0:amd64 (5.3.3-1ubuntu0.18.04.1) ...\n",
            "Setting up libgs9:amd64 (9.26~dfsg+0-0ubuntu0.18.04.17) ...\n",
            "Setting up libwmf0.2-7:amd64 (0.2.8.4-12) ...\n",
            "Setting up libwww-robotrules-perl (6.01-1) ...\n",
            "Setting up libauthen-sasl-perl (2.1600-1) ...\n",
            "Setting up notification-daemon (3.20.0-3) ...\n",
            "Setting up octave-doc (4.2.2-1ubuntu1) ...\n",
            "Setting up netbase (5.4) ...\n",
            "Setting up libxml-sax-perl (0.99+dfsg-2ubuntu1) ...\n",
            "update-perl-sax-parsers: Registering Perl SAX parser XML::SAX::PurePerl with priority 10...\n",
            "update-perl-sax-parsers: Updating overall Perl SAX parser modules info file...\n",
            "\n",
            "Creating config file /etc/perl/XML/SAX/ParserDetails.ini with new version\n",
            "Setting up libgtk2.0-0:amd64 (2.24.32-1ubuntu1) ...\n",
            "Setting up libhttp-date-perl (6.02-1) ...\n",
            "Setting up libmagickcore-6.q16-3:amd64 (8:6.9.7.4+dfsg-16ubuntu6.14) ...\n",
            "Setting up libgail18:amd64 (2.24.32-1ubuntu1) ...\n",
            "Setting up libnet-ssleay-perl (1.84-1ubuntu0.2) ...\n",
            "Setting up libfltk-gl1.3:amd64 (1.3.4-6) ...\n",
            "Setting up libcamd2:amd64 (1:5.1.2-2) ...\n",
            "Setting up libqscintilla2-qt5-13 (2.10.2+dfsg-4) ...\n",
            "Setting up libwxgtk3.0-0v5:amd64 (3.0.4+dfsg-3) ...\n",
            "Setting up libgail-common:amd64 (2.24.32-1ubuntu1) ...\n",
            "Setting up ghostscript (9.26~dfsg+0-0ubuntu0.18.04.17) ...\n",
            "Setting up gnuplot-data (5.2.2+dfsg1-2ubuntu1) ...\n",
            "Setting up libio-socket-ssl-perl (2.060-3~ubuntu18.04.1) ...\n",
            "Setting up libgraphicsmagick-q16-3 (1.3.28-2ubuntu0.1) ...\n",
            "Setting up libhtml-tree-perl (5.07-1) ...\n",
            "Setting up libamd2:amd64 (1:5.1.2-2) ...\n",
            "Setting up libmagickwand-6.q16-3:amd64 (8:6.9.7.4+dfsg-16ubuntu6.14) ...\n",
            "Setting up libfile-listing-perl (6.04-1) ...\n",
            "Setting up libhttp-message-perl (6.14-1) ...\n",
            "Setting up libxml-libxml-perl (2.0128+dfsg-5) ...\n",
            "update-perl-sax-parsers: Registering Perl SAX parser XML::LibXML::SAX::Parser with priority 50...\n",
            "update-perl-sax-parsers: Registering Perl SAX parser XML::LibXML::SAX with priority 50...\n",
            "update-perl-sax-parsers: Updating overall Perl SAX parser modules info file...\n",
            "Replacing config file /etc/perl/XML/SAX/ParserDetails.ini with new version\n",
            "Setting up libhttp-negotiate-perl (6.00-2) ...\n",
            "Setting up libgtk2.0-bin (2.24.32-1ubuntu1) ...\n",
            "Setting up libgraphicsmagick++-q16-12 (1.3.28-2ubuntu0.1) ...\n",
            "Setting up libnet-smtp-ssl-perl (1.04-1) ...\n",
            "Setting up libhtml-format-perl (2.12-1) ...\n",
            "Setting up libglpk40:amd64 (4.65-1) ...\n",
            "Setting up libhttp-cookies-perl (6.04-1) ...\n",
            "Setting up gnuplot-qt (5.2.2+dfsg1-2ubuntu1) ...\n",
            "update-alternatives: using /usr/bin/gnuplot-qt to provide /usr/bin/gnuplot (gnuplot) in auto mode\n",
            "Setting up epstool (3.08+repack-7) ...\n",
            "Setting up libhttp-daemon-perl (6.01-1ubuntu0.1) ...\n",
            "Setting up libcholmod3:amd64 (1:5.1.2-2) ...\n",
            "Setting up libmagick++-6.q16-7:amd64 (8:6.9.7.4+dfsg-16ubuntu6.14) ...\n",
            "Setting up libpstoedit0c2a (3.70-5) ...\n",
            "Setting up libhtml-form-perl (6.03-1) ...\n",
            "Setting up texinfo (6.5.0.dfsg.1-2) ...\n",
            "Setting up libmailtools-perl (2.18-1) ...\n",
            "Setting up libumfpack5:amd64 (1:5.1.2-2) ...\n",
            "Setting up pstoedit (3.70-5) ...\n",
            "Setting up liboctave4:amd64 (4.2.2-1ubuntu1) ...\n",
            "Setting up octave (4.2.2-1ubuntu1) ...\n",
            "Setting up liblwp-protocol-https-perl (6.07-2) ...\n",
            "Setting up libwww-perl (6.31-1ubuntu0.1) ...\n",
            "Setting up libxml-parser-perl (2.44-2build3) ...\n",
            "Setting up libxml-sax-expat-perl (0.40-2) ...\n",
            "update-perl-sax-parsers: Registering Perl SAX parser XML::SAX::Expat with priority 50...\n",
            "update-perl-sax-parsers: Updating overall Perl SAX parser modules info file...\n",
            "Replacing config file /etc/perl/XML/SAX/ParserDetails.ini with new version\n",
            "Processing triggers for fontconfig (2.12.6-0ubuntu2) ...\n",
            "Processing triggers for mime-support (3.60ubuntu1) ...\n",
            "Processing triggers for install-info (6.5.0.dfsg.1-2) ...\n",
            "Processing triggers for libc-bin (2.27-3ubuntu1.6) ...\n",
            "Processing triggers for man-db (2.8.3-2ubuntu0.1) ...\n",
            "Processing triggers for hicolor-icon-theme (0.17-2) ...\n"
          ]
        }
      ]
    },
    {
      "cell_type": "code",
      "source": [
        "%%writefile proceso.m\n",
        "empleados = 1000\n",
        "% state vector\n",
        "inicial = [.9; .1]\n",
        "% transition probability matrix\n",
        "A = [.6, .3; .4, .7]\n",
        "[P,D]=eig(A)\n",
        "Dcuadrado = D^2\n",
        "Acuadrado = A^2\n",
        "PxDcuadradoXPinv = P*Dcuadrado*P^-1\n",
        "dia2 = Acuadrado * inicial\n",
        "disp(\"Nº de empleados que se quedan en casa el segundo día: \"), disp(dia2(2)*empleados)\n",
        "D10 = D^10\n",
        "A10 = P*D10*P^-1\n",
        "dia10 = A10 * inicial\n",
        "disp(\"Nº de empleados que se quedan en casa a largo plazo son: \"), disp(dia10(2)*empleados)"
      ],
      "metadata": {
        "colab": {
          "base_uri": "https://localhost:8080/"
        },
        "id": "BEQ_IKhaxgcQ",
        "outputId": "2f912a65-54c3-4be4-e91a-bb4e5fc01399"
      },
      "execution_count": 2,
      "outputs": [
        {
          "output_type": "stream",
          "name": "stdout",
          "text": [
            "Writing proceso.m\n"
          ]
        }
      ]
    },
    {
      "cell_type": "code",
      "source": [
        "!octave proceso.m"
      ],
      "metadata": {
        "colab": {
          "base_uri": "https://localhost:8080/"
        },
        "id": "aHWI9bzdxkBJ",
        "outputId": "726d5704-afb7-4448-8c13-db6ea3ab33cf"
      },
      "execution_count": 3,
      "outputs": [
        {
          "output_type": "stream",
          "name": "stdout",
          "text": [
            "octave: X11 DISPLAY environment variable not set\n",
            "octave: disabling GUI features\n",
            "empleados =  1000\n",
            "inicial =\n",
            "\n",
            "   0.90000\n",
            "   0.10000\n",
            "\n",
            "A =\n",
            "\n",
            "   0.60000   0.30000\n",
            "   0.40000   0.70000\n",
            "\n",
            "P =\n",
            "\n",
            "  -0.70711  -0.60000\n",
            "   0.70711  -0.80000\n",
            "\n",
            "D =\n",
            "\n",
            "Diagonal Matrix\n",
            "\n",
            "   0.30000         0\n",
            "         0   1.00000\n",
            "\n",
            "Dcuadrado =\n",
            "\n",
            "Diagonal Matrix\n",
            "\n",
            "   0.090000          0\n",
            "          0   1.000000\n",
            "\n",
            "Acuadrado =\n",
            "\n",
            "   0.48000   0.39000\n",
            "   0.52000   0.61000\n",
            "\n",
            "PxDcuadradoXPinv =\n",
            "\n",
            "   0.48000   0.39000\n",
            "   0.52000   0.61000\n",
            "\n",
            "dia2 =\n",
            "\n",
            "   0.47100\n",
            "   0.52900\n",
            "\n",
            "Nº de empleados que se quedan en casa el segundo día: \n",
            " 529\n",
            "D10 =\n",
            "\n",
            "Diagonal Matrix\n",
            "\n",
            "   5.9049e-06            0\n",
            "            0   1.0000e+00\n",
            "\n",
            "A10 =\n",
            "\n",
            "   0.42857   0.42857\n",
            "   0.57143   0.57143\n",
            "\n",
            "dia10 =\n",
            "\n",
            "   0.42857\n",
            "   0.57143\n",
            "\n",
            "Nº de empleados que se quedan en casa a largo plazo son: \n",
            " 571.43\n"
          ]
        }
      ]
    },
    {
      "cell_type": "markdown",
      "source": [
        "![image.png](data:image/png;base64,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)"
      ],
      "metadata": {
        "id": "icZUbQ38il2P"
      }
    },
    {
      "cell_type": "markdown",
      "source": [
        "## Práctica 3.10\n",
        "**Tendencia del mercado**  \n",
        "Resolver con **Python**.\n",
        "\n",
        "En el mercado de automóviles de gran lujo únicamente se disputan la clientela dos marcas (A y B). Las ventas son $M=100.000$ automóviles anuales, no variando esta cifra con el transcurso de los años. La marca A es líder de mercado en este momento con el 75% de las ventas. Sus directivos desean consolidar su liderazgo e incluso aumentarlo, para lo cual todos los años efectúan una fuerte campaña publicitaria con la que consiguen cada año un 40% de los que fueron clientes de su competidora, aunque la empresa A pierde un 20% de sus clientes que se van a la competencia.\n",
        "* ¿Cuál es la situación a los 3 años?\n",
        "* ¿Y al cabo de mucho tiempo?"
      ],
      "metadata": {
        "id": "lllngWn__QP0"
      }
    },
    {
      "cell_type": "markdown",
      "source": [
        "##Planteamiento del problema\n",
        "\n",
        "<img src=\"https://github.com/financieras/math/blob/main/img/grafo_markov10.png?raw=1\" alt=\"grafo\" width=\"300\">\n",
        "\n",
        "\n",
        "* Ventas = 100.000\n",
        "* Vector de estado inicial $\\begin{align*}\n",
        "    X_0 &= \\begin{pmatrix}\n",
        "           0.75 \\\\\n",
        "           0.25\n",
        "         \\end{pmatrix}\n",
        "  \\end{align*}$\n",
        "* Matriz de transición $\\begin{align*}\n",
        "    A &= \\begin{pmatrix}\n",
        "           0.80 & 0.40 \\\\\n",
        "           0.20 & 0.60\n",
        "         \\end{pmatrix}\n",
        "  \\end{align*}$\n",
        "* Estado a los tres años $$X_3 = A^3 X_0 = \\begin{align*}\n",
        "    \\begin{pmatrix}\n",
        "           0.80 & 0.40 \\\\\n",
        "           0.20 & 0.60\n",
        "         \\end{pmatrix}^3\n",
        "    \\begin{pmatrix}\n",
        "           0.75 \\\\\n",
        "           0.25\n",
        "         \\end{pmatrix} = \n",
        "    \\begin{pmatrix}\n",
        "           0.688 & 0.624 \\\\\n",
        "           0.312 & 0.376\n",
        "         \\end{pmatrix}\n",
        "    \\begin{pmatrix}\n",
        "           0.75 \\\\\n",
        "           0.25\n",
        "         \\end{pmatrix} =\n",
        "        \\begin{pmatrix}\n",
        "           0.672 \\\\\n",
        "           0.328\n",
        "         \\end{pmatrix}\n",
        "  \\end{align*}$$\n",
        "\n",
        "* Estado a los veinte años $$X_{20} = A^{20} X_0 = \\begin{align*}\n",
        "    \\begin{pmatrix}\n",
        "           0.80 & 0.40 \\\\\n",
        "           0.20 & 0.60\n",
        "         \\end{pmatrix}^{20}\n",
        "    \\begin{pmatrix}\n",
        "           0.75 \\\\\n",
        "           0.25\n",
        "         \\end{pmatrix} = \n",
        "    \\begin{pmatrix}\n",
        "           ^2/_3 \\\\\n",
        "           ^1/_3\n",
        "         \\end{pmatrix}\n",
        "  \\end{align*}$$"
      ],
      "metadata": {
        "id": "BIwUpM9OlMMl"
      }
    },
    {
      "cell_type": "code",
      "source": [
        "import numpy as np\n",
        "\n",
        "X0 = np.array([.75, .25])\n",
        "A = np.array([[.8, .4], [.2 ,.6]])\n",
        "X3 = A@A@A@X0\n",
        "print(\"Situación a los tres años:\", X3)\n",
        "\n",
        "d,P = np.linalg.eig(A)\n",
        "D = np.diag(d)\n",
        "Pinv = np.linalg.inv(P)\n",
        "A10 = P@(D**10)@Pinv\n",
        "X10 = A10@X0\n",
        "print(\"Situación a los diez años:\", X10)\n",
        "print(\"Situación a los veinte años:\", P@(D**20)@Pinv@X0)"
      ],
      "metadata": {
        "colab": {
          "base_uri": "https://localhost:8080/"
        },
        "id": "EnH8FyJ0CkZv",
        "outputId": "b7f05f79-9cad-460c-c391-4b584a0bfa01"
      },
      "execution_count": null,
      "outputs": [
        {
          "output_type": "stream",
          "name": "stdout",
          "text": [
            "Situación a los tres años: [0.672 0.328]\n",
            "Situación a los diez años: [0.6666754 0.3333246]\n",
            "Situación a los veinte años: [0.66666667 0.33333333]\n"
          ]
        }
      ]
    },
    {
      "cell_type": "code",
      "source": [
        "A@A@A"
      ],
      "metadata": {
        "colab": {
          "base_uri": "https://localhost:8080/"
        },
        "id": "izgx59j_C2gL",
        "outputId": "b9288941-4df0-4110-c2b1-f55f7cc2fcb2"
      },
      "execution_count": null,
      "outputs": [
        {
          "output_type": "execute_result",
          "data": {
            "text/plain": [
              "array([[0.688, 0.624],\n",
              "       [0.312, 0.376]])"
            ]
          },
          "metadata": {},
          "execution_count": 3
        }
      ]
    },
    {
      "cell_type": "code",
      "source": [
        "P@(D**3)@Pinv"
      ],
      "metadata": {
        "colab": {
          "base_uri": "https://localhost:8080/"
        },
        "id": "B0mnZhojC4HI",
        "outputId": "48c44b27-1c31-4d39-9917-84881fa22c3b"
      },
      "execution_count": null,
      "outputs": [
        {
          "output_type": "execute_result",
          "data": {
            "text/plain": [
              "array([[0.688, 0.624],\n",
              "       [0.312, 0.376]])"
            ]
          },
          "metadata": {},
          "execution_count": 4
        }
      ]
    },
    {
      "cell_type": "code",
      "source": [
        "A@A@A@A@A@A@A@A@A@A"
      ],
      "metadata": {
        "colab": {
          "base_uri": "https://localhost:8080/"
        },
        "id": "-tvtVWagDQV8",
        "outputId": "0fa9b15f-60af-47bb-8ebf-4d837bded740"
      },
      "execution_count": null,
      "outputs": [
        {
          "output_type": "execute_result",
          "data": {
            "text/plain": [
              "array([[0.66670162, 0.66659676],\n",
              "       [0.33329838, 0.33340324]])"
            ]
          },
          "metadata": {},
          "execution_count": 5
        }
      ]
    },
    {
      "cell_type": "code",
      "source": [
        "P@(D**10)@Pinv"
      ],
      "metadata": {
        "colab": {
          "base_uri": "https://localhost:8080/"
        },
        "id": "e_SE51acDTc6",
        "outputId": "46c49ecd-c094-49a6-b575-67c1665aec0d"
      },
      "execution_count": null,
      "outputs": [
        {
          "output_type": "execute_result",
          "data": {
            "text/plain": [
              "array([[0.66670162, 0.66659676],\n",
              "       [0.33329838, 0.33340324]])"
            ]
          },
          "metadata": {},
          "execution_count": 6
        }
      ]
    },
    {
      "cell_type": "code",
      "source": [
        "np.round(A@A@A@A@A@A@A@A@A@A, 12) == np.round(P@(D**10)@Pinv, 12)"
      ],
      "metadata": {
        "colab": {
          "base_uri": "https://localhost:8080/"
        },
        "id": "aku3Jj6zDWpr",
        "outputId": "7d5303ea-66ca-406e-bd83-78cf9c8a4274"
      },
      "execution_count": null,
      "outputs": [
        {
          "output_type": "execute_result",
          "data": {
            "text/plain": [
              "array([[ True,  True],\n",
              "       [ True,  True]])"
            ]
          },
          "metadata": {},
          "execution_count": 7
        }
      ]
    }
  ]
}